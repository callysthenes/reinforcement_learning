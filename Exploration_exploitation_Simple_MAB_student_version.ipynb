{
  "nbformat": 4,
  "nbformat_minor": 0,
  "metadata": {
    "colab": {
      "provenance": [],
      "include_colab_link": true
    },
    "kernelspec": {
      "name": "python3",
      "display_name": "Python 3"
    },
    "language_info": {
      "name": "python"
    }
  },
  "cells": [
    {
      "cell_type": "markdown",
      "metadata": {
        "id": "view-in-github",
        "colab_type": "text"
      },
      "source": [
        "<a href=\"https://colab.research.google.com/github/callysthenes/reinforcement_learning/blob/main/Exploration_exploitation_Simple_MAB_student_version.ipynb\" target=\"_parent\"><img src=\"https://colab.research.google.com/assets/colab-badge.svg\" alt=\"Open In Colab\"/></a>"
      ]
    },
    {
      "cell_type": "markdown",
      "source": [
        "# Simple implementation of Multi-armed Bandit (MAB)\n",
        "\n",
        "You have N machines to play, and you need to decide whether to keep on playing the same machine or not"
      ],
      "metadata": {
        "id": "6T6_sPn83UUY"
      }
    },
    {
      "cell_type": "code",
      "source": [
        "import numpy as np\n",
        "import random"
      ],
      "metadata": {
        "id": "uE08a6lS845L"
      },
      "execution_count": null,
      "outputs": []
    },
    {
      "cell_type": "markdown",
      "source": [
        "Lets assume a simple reward function, where keep playing the third machine is the best action. We assume 5 machines:"
      ],
      "metadata": {
        "id": "fZAcOs3p80K1"
      }
    },
    {
      "cell_type": "code",
      "source": [
        "n_bandits = 5  # number of machines or possible actions\n",
        "\n",
        "\n",
        "# Define the reward function\n",
        "def reward_function(action):\n",
        "    return ?\n"
      ],
      "metadata": {
        "id": "OM6uqygX7_dx"
      },
      "execution_count": null,
      "outputs": []
    },
    {
      "cell_type": "markdown",
      "source": [
        "Assume an epsilon-greedy apporach:\n",
        "\n",
        "* with probability epsilon, chose a machine at random\n",
        "\n",
        "* with probability (1-epsilon), play the machine with highest probability so far\n",
        "\n",
        "\n",
        "For this you will need to store probabilities of success for each machine/bandit/action. "
      ],
      "metadata": {
        "id": "3WiIbwNs9JU7"
      }
    },
    {
      "cell_type": "code",
      "source": [
        "def epsilon_greedy(n_steps, epsilon, n_bandits):\n",
        "  probabilities = np.zeros(n_bandits)\n",
        "  # Run the game for n_steps\n",
        "  for step in range(n_steps):\n",
        "      # Choose an action based on the epsilon-greedy algorithm\n",
        "      if random.uniform(0, 1) < epsilon:\n",
        "          action = ? # Exploration\n",
        "      else:\n",
        "          action = ? # Exploitation\n",
        "      \n",
        "      # Take the action and observe the reward\n",
        "      reward = ?\n",
        "      \n",
        "      # Update the probabilities\n",
        "      ?\n",
        "      \n",
        "      # Print the current Q-values\n",
        "      print(f\"Step: {step}, probabilities: {probabilities}\")  "
      ],
      "metadata": {
        "id": "I4w8B0yj7_Ip"
      },
      "execution_count": null,
      "outputs": []
    },
    {
      "cell_type": "code",
      "execution_count": null,
      "metadata": {
        "id": "HMXpZk3Q3K7c"
      },
      "outputs": [],
      "source": [
        "epsilon_greedy(n_steps=1000, epsilon=0.1, n_bandits=n_bandits)"
      ]
    },
    {
      "cell_type": "code",
      "source": [
        "epsilon_greedy(n_steps=1000, epsilon=0.01, n_bandits=n_bandits)"
      ],
      "metadata": {
        "id": "G3vjdvVW40ew"
      },
      "execution_count": null,
      "outputs": []
    },
    {
      "cell_type": "code",
      "source": [
        "epsilon_greedy(n_steps=1000, epsilon=0.001, n_bandits=n_bandits)"
      ],
      "metadata": {
        "id": "sE2FZB8CAOKP"
      },
      "execution_count": null,
      "outputs": []
    },
    {
      "cell_type": "code",
      "source": [
        "epsilon_greedy(n_steps=1000, epsilon=1e-6, n_bandits=n_bandits)"
      ],
      "metadata": {
        "id": "GHE518U9AlKx"
      },
      "execution_count": null,
      "outputs": []
    }
  ]
}