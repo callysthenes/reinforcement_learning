{
  "nbformat": 4,
  "nbformat_minor": 0,
  "metadata": {
    "colab": {
      "provenance": [],
      "include_colab_link": true
    },
    "kernelspec": {
      "name": "python3",
      "display_name": "Python 3"
    },
    "language_info": {
      "name": "python"
    }
  },
  "cells": [
    {
      "cell_type": "markdown",
      "metadata": {
        "id": "view-in-github",
        "colab_type": "text"
      },
      "source": [
        "<a href=\"https://colab.research.google.com/github/callysthenes/reinforcement_learning/blob/main/constrained_optimization_student_version.ipynb\" target=\"_parent\"><img src=\"https://colab.research.google.com/assets/colab-badge.svg\" alt=\"Open In Colab\"/></a>"
      ]
    },
    {
      "cell_type": "code",
      "execution_count": null,
      "metadata": {
        "id": "mvtxcyrttGhZ"
      },
      "outputs": [],
      "source": [
        "import numpy as np\n",
        "from scipy.optimize import minimize"
      ]
    },
    {
      "cell_type": "code",
      "source": [
        "# Define the objective function\n",
        "def objective(x):\n",
        "    # note we are gonna minimize the objective function, but we wanna maximize revenue\n",
        "    return ?"
      ],
      "metadata": {
        "id": "xGCHaO6btPG2"
      },
      "execution_count": null,
      "outputs": []
    },
    {
      "cell_type": "code",
      "source": [
        "# Define the constraint functions: \n",
        "\n",
        "# From scipy documentation:\n",
        "\n",
        "# Equality constraint means that the constraint function result is to be zero \n",
        "# whereas inequality means that it is to be non-negative (>=0)\n",
        "\n",
        "def capacity_constraint(x):\n",
        "    # inequality\n",
        "    return ?\n",
        "\n",
        "def demand_constraint(x):\n",
        "    # equality\n",
        "    return ?\n",
        "\n",
        "# Define the constraints\n",
        "cons = ({'type': 'ineq', 'fun': capacity_constraint},\n",
        "        {'type': 'eq', 'fun': demand_constraint})"
      ],
      "metadata": {
        "id": "0oST_kvktSxH"
      },
      "execution_count": null,
      "outputs": []
    },
    {
      "cell_type": "code",
      "source": [
        "# Define the initial guess\n",
        "x0 = ?"
      ],
      "metadata": {
        "id": "aP6K0t0rtXbb"
      },
      "execution_count": null,
      "outputs": []
    },
    {
      "cell_type": "code",
      "source": [
        "# Define the bounds for the variables\n",
        "bounds = ?"
      ],
      "metadata": {
        "id": "VeJN9-ymtZ7Z"
      },
      "execution_count": null,
      "outputs": []
    },
    {
      "cell_type": "markdown",
      "source": [
        "# Solve with SLSQP (Sequential Least Squares Programming )"
      ],
      "metadata": {
        "id": "U8tXNGINw3_p"
      }
    },
    {
      "cell_type": "code",
      "source": [
        "# Solve the optimization problem\n",
        "result = minimize(objective, x0, method='SLSQP', bounds=bounds, constraints=cons)\n",
        "\n",
        "# Print the results\n",
        "print('Optimal solution:', result.x)\n",
        "print('Optimal objective value:', -result.fun)"
      ],
      "metadata": {
        "id": "UuWcK7dHtbtb"
      },
      "execution_count": null,
      "outputs": []
    },
    {
      "cell_type": "markdown",
      "source": [
        "Note the constraints can be slightly negative, this is expected with numerical solvers"
      ],
      "metadata": {
        "id": "P0-7H3P30nMn"
      }
    },
    {
      "cell_type": "code",
      "source": [],
      "metadata": {
        "id": "KPh6F7Vr5yDo"
      },
      "execution_count": null,
      "outputs": []
    },
    {
      "cell_type": "code",
      "source": [],
      "metadata": {
        "id": "pOpI-y4N5yXk"
      },
      "execution_count": null,
      "outputs": []
    },
    {
      "cell_type": "code",
      "source": [],
      "metadata": {
        "id": "dGSS7Onm5-SS"
      },
      "execution_count": null,
      "outputs": []
    },
    {
      "cell_type": "code",
      "source": [],
      "metadata": {
        "id": "6NDDFr175yl-"
      },
      "execution_count": null,
      "outputs": []
    },
    {
      "cell_type": "markdown",
      "source": [
        "## Are there better solutions?"
      ],
      "metadata": {
        "id": "tQPHlFhY0u8d"
      }
    },
    {
      "cell_type": "code",
      "source": [],
      "metadata": {
        "id": "P9wytZLD6L3p"
      },
      "execution_count": null,
      "outputs": []
    },
    {
      "cell_type": "code",
      "source": [],
      "metadata": {
        "id": "YmJzxBjt6Lps"
      },
      "execution_count": null,
      "outputs": []
    },
    {
      "cell_type": "code",
      "source": [],
      "metadata": {
        "id": "ZerT3gI96La0"
      },
      "execution_count": null,
      "outputs": []
    },
    {
      "cell_type": "markdown",
      "source": [
        "Try converting the demand equality to an inequality, as the stock can be larger than the demand"
      ],
      "metadata": {
        "id": "4jaW3IpPAxBb"
      }
    },
    {
      "cell_type": "code",
      "source": [
        "x0 = ?\n",
        "cons = ({'type': 'ineq', 'fun': capacity_constraint},\n",
        "        {'type': 'ineq', 'fun': demand_constraint})\n",
        "\n",
        "result = minimize(objective, x0, method='SLSQP', bounds=bounds, constraints=cons)\n",
        "\n",
        "# Print the results\n",
        "print('Optimal solution:', result.x)\n",
        "print('Optimal objective value:', result.fun)\n",
        "print(result.message, result.status, result.success, result.nfev, result.nit)\n",
        "\n",
        "x = result.x\n",
        "-objective(x), capacity_constraint(x), demand_constraint(x)"
      ],
      "metadata": {
        "id": "IERgfNpiAs7A"
      },
      "execution_count": null,
      "outputs": []
    },
    {
      "cell_type": "markdown",
      "source": [
        "# COBYLA (Constrained Optimization BY Linear Approximation )\n",
        "\n",
        "\n",
        "Note cobyla does not accept equality constraint, neither bounds. So we need to convert demand equality to an inequality, and rewrite bounds as contraints (x[0] > 0, for instance)"
      ],
      "metadata": {
        "id": "KW4c-6W4xM01"
      }
    },
    {
      "cell_type": "code",
      "source": [
        "x0 = [1, 1, 1]\n",
        "cobyla_cons = ?\n",
        "\n",
        "result = minimize(objective, x0, method='cobyla', constraints=cobyla_cons)\n",
        "print('Optimal solution:', result.x)\n",
        "print('Optimal objective value:', result.fun)\n",
        "print(result.message, result.status, result.success, result.nfev)\n",
        "\n",
        "x = result.x\n",
        "-objective(x), capacity_constraint(x), demand_constraint(x)"
      ],
      "metadata": {
        "id": "A81QNuV54nkX"
      },
      "execution_count": null,
      "outputs": []
    },
    {
      "cell_type": "code",
      "source": [],
      "metadata": {
        "id": "dFBepUa31rw5"
      },
      "execution_count": null,
      "outputs": []
    }
  ]
}