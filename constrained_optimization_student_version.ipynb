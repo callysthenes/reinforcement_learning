{
  "nbformat": 4,
  "nbformat_minor": 0,
  "metadata": {
    "colab": {
      "provenance": [],
      "include_colab_link": true
    },
    "kernelspec": {
      "name": "python3",
      "display_name": "Python 3"
    },
    "language_info": {
      "name": "python"
    }
  },
  "cells": [
    {
      "cell_type": "markdown",
      "metadata": {
        "id": "view-in-github",
        "colab_type": "text"
      },
      "source": [
        "<a href=\"https://colab.research.google.com/github/callysthenes/reinforcement_learning/blob/main/constrained_optimization_student_version.ipynb\" target=\"_parent\"><img src=\"https://colab.research.google.com/assets/colab-badge.svg\" alt=\"Open In Colab\"/></a>"
      ]
    },
    {
      "cell_type": "code",
      "execution_count": 8,
      "metadata": {
        "id": "mvtxcyrttGhZ"
      },
      "outputs": [],
      "source": [
        "import numpy as np\n",
        "from scipy.optimize import minimize"
      ]
    },
    {
      "cell_type": "code",
      "source": [
        "# Define the objective function\n",
        "def objective(x):\n",
        "    # note we are gonna minimize the objective function, but we wanna maximize revenue\n",
        "    return -(10*x[0]+20*x[1]+30*x[2])"
      ],
      "metadata": {
        "id": "xGCHaO6btPG2"
      },
      "execution_count": 9,
      "outputs": []
    },
    {
      "cell_type": "code",
      "source": [
        "# Define the constraint functions: \n",
        "\n",
        "# From scipy documentation:\n",
        "\n",
        "# Equality constraint means that the constraint function result is to be zero \n",
        "# whereas inequality means that it is to be non-negative (>=0)\n",
        "\n",
        "def capacity_constraint(x):\n",
        "    # inequality\n",
        "    return 25 - (2*x[0]+3*x[1] +4*x[2])\n",
        "\n",
        "def demand_constraint(x):\n",
        "    # equality\n",
        "    return x[0] +x[1]+x[2] -10\n",
        "\n",
        "# Define the constraints\n",
        "cons = ({'type': 'ineq', 'fun': capacity_constraint},\n",
        "        {'type': 'eq', 'fun': demand_constraint})"
      ],
      "metadata": {
        "id": "0oST_kvktSxH"
      },
      "execution_count": 10,
      "outputs": []
    },
    {
      "cell_type": "code",
      "source": [
        "# Define the initial guess\n",
        "x0 = np.array([1,1,1])"
      ],
      "metadata": {
        "id": "aP6K0t0rtXbb"
      },
      "execution_count": 11,
      "outputs": []
    },
    {
      "cell_type": "code",
      "source": [
        "# Define the bounds for the variables\n",
        "bounds = ((0,None), (0,None), (0,None))"
      ],
      "metadata": {
        "id": "VeJN9-ymtZ7Z"
      },
      "execution_count": 12,
      "outputs": []
    },
    {
      "cell_type": "markdown",
      "source": [
        "# Solve with SLSQP (Sequential Least Squares Programming )"
      ],
      "metadata": {
        "id": "U8tXNGINw3_p"
      }
    },
    {
      "cell_type": "code",
      "source": [
        "# Solve the optimization problem\n",
        "result = minimize(objective, x0, method='SLSQP', bounds=bounds, constraints=cons)\n",
        "#very traditional algorithm \n",
        "\n",
        "\n",
        "# Print the results\n",
        "print('Optimal solution:', result.x)\n",
        "print('Optimal objective value:', -result.fun)"
      ],
      "metadata": {
        "id": "UuWcK7dHtbtb",
        "outputId": "ee272916-3cc9-41d5-acf9-0d9659dbffec",
        "colab": {
          "base_uri": "https://localhost:8080/"
        }
      },
      "execution_count": 13,
      "outputs": [
        {
          "output_type": "stream",
          "name": "stdout",
          "text": [
            "Optimal solution: [5.83333333 3.33333333 0.83333333]\n",
            "Optimal objective value: 149.9999999999895\n"
          ]
        }
      ]
    },
    {
      "cell_type": "markdown",
      "source": [
        "Note the constraints can be slightly negative, this is expected with numerical solvers"
      ],
      "metadata": {
        "id": "P0-7H3P30nMn"
      }
    },
    {
      "cell_type": "code",
      "source": [
        "x = result.x\n",
        "-objective(x), capacity_constraint(x), demand_constraint(x)"
      ],
      "metadata": {
        "id": "KPh6F7Vr5yDo",
        "outputId": "7fe3216d-e1dd-4819-9b29-00901bb061d1",
        "colab": {
          "base_uri": "https://localhost:8080/"
        }
      },
      "execution_count": 14,
      "outputs": [
        {
          "output_type": "execute_result",
          "data": {
            "text/plain": [
              "(149.9999999999895, 1.0444978215673473e-12, 0.0)"
            ]
          },
          "metadata": {},
          "execution_count": 14
        }
      ]
    },
    {
      "cell_type": "code",
      "source": [
        "result.message"
      ],
      "metadata": {
        "id": "xUTof3hD_gIy",
        "outputId": "8d4b982f-acf6-4e51-e471-a7d7e5dfd8e1",
        "colab": {
          "base_uri": "https://localhost:8080/",
          "height": 35
        }
      },
      "execution_count": 17,
      "outputs": [
        {
          "output_type": "execute_result",
          "data": {
            "text/plain": [
              "'Optimization terminated successfully'"
            ],
            "application/vnd.google.colaboratory.intrinsic+json": {
              "type": "string"
            }
          },
          "metadata": {},
          "execution_count": 17
        }
      ]
    },
    {
      "cell_type": "code",
      "source": [
        "result.status"
      ],
      "metadata": {
        "id": "pOpI-y4N5yXk",
        "outputId": "9855e07b-24d8-4842-8da1-36d8ad9cd3ce",
        "colab": {
          "base_uri": "https://localhost:8080/"
        }
      },
      "execution_count": 18,
      "outputs": [
        {
          "output_type": "execute_result",
          "data": {
            "text/plain": [
              "0"
            ]
          },
          "metadata": {},
          "execution_count": 18
        }
      ]
    },
    {
      "cell_type": "code",
      "source": [
        "result.nfev"
      ],
      "metadata": {
        "id": "dGSS7Onm5-SS",
        "outputId": "6c4bf5b2-e232-482a-e289-4aabeaae3116",
        "colab": {
          "base_uri": "https://localhost:8080/"
        }
      },
      "execution_count": 19,
      "outputs": [
        {
          "output_type": "execute_result",
          "data": {
            "text/plain": [
              "8"
            ]
          },
          "metadata": {},
          "execution_count": 19
        }
      ]
    },
    {
      "cell_type": "code",
      "source": [
        "result.nit"
      ],
      "metadata": {
        "id": "6NDDFr175yl-",
        "outputId": "9f0adbca-20c7-453b-ab87-57f6a2e78658",
        "colab": {
          "base_uri": "https://localhost:8080/"
        }
      },
      "execution_count": 20,
      "outputs": [
        {
          "output_type": "execute_result",
          "data": {
            "text/plain": [
              "2"
            ]
          },
          "metadata": {},
          "execution_count": 20
        }
      ]
    },
    {
      "cell_type": "markdown",
      "source": [
        "## Are there better solutions?"
      ],
      "metadata": {
        "id": "tQPHlFhY0u8d"
      }
    },
    {
      "cell_type": "code",
      "source": [
        "x=[10,0,0]\n",
        "-objective(x),capacity_constraint(x), demand_constraint(x)"
      ],
      "metadata": {
        "id": "P9wytZLD6L3p",
        "outputId": "de3d5c32-4756-4e79-e8cf-08493f9a8497",
        "colab": {
          "base_uri": "https://localhost:8080/"
        }
      },
      "execution_count": 22,
      "outputs": [
        {
          "output_type": "execute_result",
          "data": {
            "text/plain": [
              "(100, 5, 0)"
            ]
          },
          "metadata": {},
          "execution_count": 22
        }
      ]
    },
    {
      "cell_type": "code",
      "source": [
        "x=[7,1,2]\n",
        "-objective(x),capacity_constraint(x), demand_constraint(x)"
      ],
      "metadata": {
        "id": "YmJzxBjt6Lps",
        "outputId": "0bedeeef-7e5c-4595-ddb2-ea03f135d0db",
        "colab": {
          "base_uri": "https://localhost:8080/"
        }
      },
      "execution_count": 23,
      "outputs": [
        {
          "output_type": "execute_result",
          "data": {
            "text/plain": [
              "(150, 0, 0)"
            ]
          },
          "metadata": {},
          "execution_count": 23
        }
      ]
    },
    {
      "cell_type": "code",
      "source": [
        "x=[6,1,3]\n",
        "-objective(x),capacity_constraint(x), demand_constraint(x)"
      ],
      "metadata": {
        "id": "ZerT3gI96La0",
        "outputId": "27b1ec50-6f6a-437a-bb56-5e070da85e26",
        "colab": {
          "base_uri": "https://localhost:8080/"
        }
      },
      "execution_count": 24,
      "outputs": [
        {
          "output_type": "execute_result",
          "data": {
            "text/plain": [
              "(170, -2, 0)"
            ]
          },
          "metadata": {},
          "execution_count": 24
        }
      ]
    },
    {
      "cell_type": "code",
      "source": [
        "x=[6,3,1]\n",
        "-objective(x),capacity_constraint(x), demand_constraint(x)"
      ],
      "metadata": {
        "id": "_8pa8p7p_--3",
        "outputId": "47ad96b9-c6dd-4560-b111-d0316ef1b7df",
        "colab": {
          "base_uri": "https://localhost:8080/"
        }
      },
      "execution_count": 25,
      "outputs": [
        {
          "output_type": "execute_result",
          "data": {
            "text/plain": [
              "(150, 0, 0)"
            ]
          },
          "metadata": {},
          "execution_count": 25
        }
      ]
    },
    {
      "cell_type": "markdown",
      "source": [
        "This solution is equivalent to the 7,1,2 combination"
      ],
      "metadata": {
        "id": "KvpWsAikADAi"
      }
    },
    {
      "cell_type": "markdown",
      "source": [
        "Try converting the demand equality to an inequality, as the stock can be larger than the demand"
      ],
      "metadata": {
        "id": "4jaW3IpPAxBb"
      }
    },
    {
      "cell_type": "code",
      "source": [
        "x0 = (1,1,1)\n",
        "cons = ({'type': 'ineq', 'fun': capacity_constraint},\n",
        "        {'type': 'ineq', 'fun': demand_constraint})\n",
        "\n",
        "result = minimize(objective, x0, method='SLSQP', bounds=bounds, constraints=cons)\n",
        "\n",
        "# Print the results\n",
        "print('Optimal solution:', result.x)\n",
        "print('Optimal objective value:', result.fun)\n",
        "print(result.message, result.status, result.success, result.nfev, result.nit)\n",
        "\n",
        "x = result.x\n",
        "-objective(x), capacity_constraint(x), demand_constraint(x)"
      ],
      "metadata": {
        "id": "IERgfNpiAs7A",
        "outputId": "2ccb010a-f228-4d20-f662-2116b0807de3",
        "colab": {
          "base_uri": "https://localhost:8080/"
        }
      },
      "execution_count": 26,
      "outputs": [
        {
          "output_type": "stream",
          "name": "stdout",
          "text": [
            "Optimal solution: [5.83333333 3.33333333 0.83333333]\n",
            "Optimal objective value: -150.00000000040583\n",
            "Optimization terminated successfully 0 True 8 2\n"
          ]
        },
        {
          "output_type": "execute_result",
          "data": {
            "text/plain": [
              "(150.00000000040583, -5.7056581681536045e-11, 1.6477486042276723e-11)"
            ]
          },
          "metadata": {},
          "execution_count": 26
        }
      ]
    },
    {
      "cell_type": "markdown",
      "source": [
        "# COBYLA (Constrained Optimization BY Linear Approximation )\n",
        "\n",
        "\n",
        "Note cobyla does not accept equality constraint, neither bounds. So we need to convert demand equality to an inequality, and rewrite bounds as contraints (x[0] > 0, for instance)"
      ],
      "metadata": {
        "id": "KW4c-6W4xM01"
      }
    },
    {
      "cell_type": "markdown",
      "source": [
        "Exam question: what is wrong with this code. for example, this constraint is not well adjusted"
      ],
      "metadata": {
        "id": "isT-jKheBLrj"
      }
    },
    {
      "cell_type": "code",
      "source": [
        "x0 = [1, 1, 1]\n",
        "cobyla_cons = (\n",
        "    {'type': 'ineq', 'fun': capacity_constraint},\n",
        "    {'type': 'ineq', 'fun': demand_constraint},\n",
        "    {'type': 'ineq', 'fun': lambda x: x[0]}, \n",
        "    {'type': 'ineq', 'fun': lambda x: x[1]}, \n",
        "    {'type': 'ineq', 'fun': lambda x: x[2]}, \n",
        "    )\n",
        "\n",
        "result = minimize(objective, x0, method='cobyla', constraints=cobyla_cons)\n",
        "print('Optimal solution:', result.x)\n",
        "print('Optimal objective value:', result.fun)\n",
        "print(result.message, result.status, result.success, result.nfev)\n",
        "\n",
        "x = result.x\n",
        "-objective(x), capacity_constraint(x), demand_constraint(x)"
      ],
      "metadata": {
        "id": "A81QNuV54nkX",
        "outputId": "c5be0118-eceb-45ab-94b5-c248291fbe79",
        "colab": {
          "base_uri": "https://localhost:8080/"
        }
      },
      "execution_count": 29,
      "outputs": [
        {
          "output_type": "stream",
          "name": "stdout",
          "text": [
            "Optimal solution: [5.36125542 4.27748915 0.36125542]\n",
            "Optimal objective value: -150.00000000000003\n",
            "Optimization terminated successfully. 1 True 48\n"
          ]
        },
        {
          "output_type": "execute_result",
          "data": {
            "text/plain": [
              "(150.00000000000003, 0.0, -1.7763568394002505e-15)"
            ]
          },
          "metadata": {},
          "execution_count": 29
        }
      ]
    },
    {
      "cell_type": "code",
      "source": [
        "x0 = [6, 1, 1]\n",
        "cobyla_cons = (\n",
        "    {'type': 'ineq', 'fun': capacity_constraint},\n",
        "    {'type': 'ineq', 'fun': demand_constraint},\n",
        "    {'type': 'ineq', 'fun': lambda x: x[0]}, \n",
        "    {'type': 'ineq', 'fun': lambda x: x[1]}, \n",
        "    {'type': 'ineq', 'fun': lambda x: x[2]}, \n",
        "    )\n",
        "\n",
        "result = minimize(objective, x0, method='cobyla', constraints=cobyla_cons)\n",
        "print('Optimal solution:', result.x)\n",
        "print('Optimal objective value:', result.fun)\n",
        "print(result.message, result.status, result.success, result.nfev)\n",
        "\n",
        "x = result.x\n",
        "-objective(x), capacity_constraint(x), demand_constraint(x)"
      ],
      "metadata": {
        "id": "dFBepUa31rw5",
        "outputId": "5aa752d7-ca07-4cc3-da94-718e6e10c4e8",
        "colab": {
          "base_uri": "https://localhost:8080/"
        }
      },
      "execution_count": 30,
      "outputs": [
        {
          "output_type": "stream",
          "name": "stdout",
          "text": [
            "Optimal solution: [6.5 2.  1.5]\n",
            "Optimal objective value: -150.0\n",
            "Optimization terminated successfully. 1 True 24\n"
          ]
        },
        {
          "output_type": "execute_result",
          "data": {
            "text/plain": [
              "(150.0, 0.0, 0.0)"
            ]
          },
          "metadata": {},
          "execution_count": 30
        }
      ]
    },
    {
      "cell_type": "markdown",
      "source": [
        "Is this solution valid? this is a valid solution because both constrains are zero"
      ],
      "metadata": {
        "id": "dQXyrsONBlKt"
      }
    },
    {
      "cell_type": "code",
      "source": [
        "x = [7,2,2]\n",
        "-objective(x), capacity_constraint(x), demand_constraint(x)"
      ],
      "metadata": {
        "id": "wcduXBWEBi7S",
        "outputId": "b5699ef7-bd76-4b73-cc2c-f701b1a449f4",
        "colab": {
          "base_uri": "https://localhost:8080/"
        }
      },
      "execution_count": 31,
      "outputs": [
        {
          "output_type": "execute_result",
          "data": {
            "text/plain": [
              "(170, -3, 1)"
            ]
          },
          "metadata": {},
          "execution_count": 31
        }
      ]
    },
    {
      "cell_type": "markdown",
      "source": [
        "This solution is not valid because the capacity constraint is minus three, not acceptable. It could be acceptable if -0.000001 but not -3"
      ],
      "metadata": {
        "id": "Vrqr6xN3CP2P"
      }
    },
    {
      "cell_type": "markdown",
      "source": [],
      "metadata": {
        "id": "JGJlCXCnCspw"
      }
    },
    {
      "cell_type": "code",
      "source": [],
      "metadata": {
        "id": "xT_OvHtaCOf_"
      },
      "execution_count": null,
      "outputs": []
    }
  ]
}