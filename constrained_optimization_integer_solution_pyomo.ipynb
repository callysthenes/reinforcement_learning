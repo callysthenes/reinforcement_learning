{
  "nbformat": 4,
  "nbformat_minor": 0,
  "metadata": {
    "colab": {
      "provenance": [],
      "include_colab_link": true
    },
    "kernelspec": {
      "name": "python3",
      "display_name": "Python 3"
    },
    "language_info": {
      "name": "python"
    }
  },
  "cells": [
    {
      "cell_type": "markdown",
      "metadata": {
        "id": "view-in-github",
        "colab_type": "text"
      },
      "source": [
        "<a href=\"https://colab.research.google.com/github/callysthenes/reinforcement_learning/blob/main/constrained_optimization_integer_solution_pyomo.ipynb\" target=\"_parent\"><img src=\"https://colab.research.google.com/assets/colab-badge.svg\" alt=\"Open In Colab\"/></a>"
      ]
    },
    {
      "cell_type": "code",
      "source": [
        "!pip install pyomo\n",
        "!apt install glpk-utils\n",
        "!pip install glpk"
      ],
      "metadata": {
        "colab": {
          "base_uri": "https://localhost:8080/"
        },
        "id": "5-3-_TH2T6jc",
        "outputId": "132e0041-9355-4df3-fdba-010a8a455321"
      },
      "execution_count": null,
      "outputs": [
        {
          "output_type": "stream",
          "name": "stdout",
          "text": [
            "Looking in indexes: https://pypi.org/simple, https://us-python.pkg.dev/colab-wheels/public/simple/\n",
            "Requirement already satisfied: pyomo in /usr/local/lib/python3.9/dist-packages (6.5.0)\n",
            "Requirement already satisfied: ply in /usr/local/lib/python3.9/dist-packages (from pyomo) (3.11)\n",
            "Reading package lists... Done\n",
            "Building dependency tree       \n",
            "Reading state information... Done\n",
            "glpk-utils is already the newest version (4.65-2).\n",
            "The following package was automatically installed and is no longer required:\n",
            "  libnvidia-common-525\n",
            "Use 'apt autoremove' to remove it.\n",
            "0 upgraded, 0 newly installed, 0 to remove and 23 not upgraded.\n",
            "Looking in indexes: https://pypi.org/simple, https://us-python.pkg.dev/colab-wheels/public/simple/\n",
            "Collecting glpk\n",
            "  Using cached glpk-0.4.7.tar.gz (161 kB)\n",
            "  Installing build dependencies ... \u001b[?25l\u001b[?25hdone\n",
            "  Getting requirements to build wheel ... \u001b[?25l\u001b[?25hdone\n",
            "  Preparing metadata (pyproject.toml) ... \u001b[?25l\u001b[?25hdone\n",
            "Building wheels for collected packages: glpk\n",
            "  \u001b[1;31merror\u001b[0m: \u001b[1msubprocess-exited-with-error\u001b[0m\n",
            "  \n",
            "  \u001b[31m×\u001b[0m \u001b[32mBuilding wheel for glpk \u001b[0m\u001b[1;32m(\u001b[0m\u001b[32mpyproject.toml\u001b[0m\u001b[1;32m)\u001b[0m did not run successfully.\n",
            "  \u001b[31m│\u001b[0m exit code: \u001b[1;36m1\u001b[0m\n",
            "  \u001b[31m╰─>\u001b[0m See above for output.\n",
            "  \n",
            "  \u001b[1;35mnote\u001b[0m: This error originates from a subprocess, and is likely not a problem with pip.\n",
            "  Building wheel for glpk (pyproject.toml) ... \u001b[?25l\u001b[?25herror\n",
            "\u001b[31m  ERROR: Failed building wheel for glpk\u001b[0m\u001b[31m\n",
            "\u001b[0mFailed to build glpk\n",
            "\u001b[31mERROR: Could not build wheels for glpk, which is required to install pyproject.toml-based projects\u001b[0m\u001b[31m\n",
            "\u001b[0m"
          ]
        }
      ]
    },
    {
      "cell_type": "code",
      "execution_count": null,
      "metadata": {
        "id": "Xa0DMYgOShvA"
      },
      "outputs": [],
      "source": [
        "from pyomo.environ import *"
      ]
    },
    {
      "cell_type": "code",
      "source": [
        "# Define the model\n",
        "model = ConcreteModel()"
      ],
      "metadata": {
        "id": "YbKyvOTySnaL"
      },
      "execution_count": null,
      "outputs": []
    },
    {
      "cell_type": "code",
      "source": [
        "# Define the decision variables\n",
        "model.x1 = Var(within=NonNegativeIntegers)\n",
        "model.x2 = Var(within=NonNegativeIntegers)\n",
        "model.x3 = Var(within=NonNegativeIntegers)"
      ],
      "metadata": {
        "id": "jPVKZuwOSp2s"
      },
      "execution_count": null,
      "outputs": []
    },
    {
      "cell_type": "code",
      "source": [
        "# Define the objective function\n",
        "model.obj = Objective(expr=10*model.x1 + 20*model.x2 + 30*model.x3, sense=maximize)"
      ],
      "metadata": {
        "id": "gyFdO9piS1M1"
      },
      "execution_count": null,
      "outputs": []
    },
    {
      "cell_type": "code",
      "source": [
        "# Define the constraints\n",
        "model.con1 = Constraint(expr=2*model.x1 + 3*model.x2 + 4*model.x3 <= 25)\n",
        "model.con2 = Constraint(expr=model.x1 + model.x2 + model.x3 == 10)"
      ],
      "metadata": {
        "id": "drSkjoakS2Bn"
      },
      "execution_count": null,
      "outputs": []
    },
    {
      "cell_type": "code",
      "source": [
        "# Solve the problem\n",
        "solver = SolverFactory('glpk')\n",
        "solver.solve(model)"
      ],
      "metadata": {
        "colab": {
          "base_uri": "https://localhost:8080/"
        },
        "id": "UvflMhmnS2zQ",
        "outputId": "53f46e93-8173-47a5-e9e4-6eb79b7dd9f7"
      },
      "execution_count": null,
      "outputs": [
        {
          "output_type": "execute_result",
          "data": {
            "text/plain": [
              "{'Problem': [{'Name': 'unknown', 'Lower bound': 150.0, 'Upper bound': 150.0, 'Number of objectives': 1, 'Number of constraints': 3, 'Number of variables': 4, 'Number of nonzeros': 7, 'Sense': 'maximize'}], 'Solver': [{'Status': 'ok', 'Termination condition': 'optimal', 'Statistics': {'Branch and bound': {'Number of bounded subproblems': '1', 'Number of created subproblems': '1'}}, 'Error rc': 0, 'Time': 0.01113748550415039}], 'Solution': [OrderedDict([('number of solutions', 0), ('number of solutions displayed', 0)])]}"
            ]
          },
          "metadata": {},
          "execution_count": 7
        }
      ]
    },
    {
      "cell_type": "code",
      "source": [
        "# Print the results\n",
        "print(\"Optimal Solution:\")\n",
        "print(\"x1 = \", int(model.x1()))\n",
        "print(\"x2 = \", int(model.x2()))\n",
        "print(\"x3 = \", int(model.x3()))\n",
        "print(\"Total Profit = \", int(model.obj()))"
      ],
      "metadata": {
        "colab": {
          "base_uri": "https://localhost:8080/"
        },
        "id": "ZthdM0taS28x",
        "outputId": "67637210-7bb1-40b3-f909-660856837aeb"
      },
      "execution_count": null,
      "outputs": [
        {
          "output_type": "stream",
          "name": "stdout",
          "text": [
            "Optimal Solution:\n",
            "x1 =  7\n",
            "x2 =  1\n",
            "x3 =  2\n",
            "Total Profit =  150\n"
          ]
        }
      ]
    },
    {
      "cell_type": "code",
      "source": [],
      "metadata": {
        "id": "QM03CVGsS3KA"
      },
      "execution_count": null,
      "outputs": []
    },
    {
      "cell_type": "code",
      "source": [],
      "metadata": {
        "id": "Yc3P5zGHS3VQ"
      },
      "execution_count": null,
      "outputs": []
    },
    {
      "cell_type": "code",
      "source": [],
      "metadata": {
        "id": "yTXtqfeQS3hc"
      },
      "execution_count": null,
      "outputs": []
    }
  ]
}