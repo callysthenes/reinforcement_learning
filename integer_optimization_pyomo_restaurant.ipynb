{
 "cells": [
  {
   "attachments": {},
   "cell_type": "markdown",
   "metadata": {},
   "source": [
    "# Integer Optimization with Pyomo"
   ]
  },
  {
   "cell_type": "code",
   "execution_count": 1,
   "metadata": {},
   "outputs": [],
   "source": [
    "#import pyomo\n",
    "import pyomo.environ as pyo\n",
    "from pyomo.environ import *\n",
    "from pyomo.opt import SolverFactory"
   ]
  },
  {
   "attachments": {},
   "cell_type": "markdown",
   "metadata": {},
   "source": [
    "# Finding Weather Data for Munich"
   ]
  },
  {
   "cell_type": "code",
   "execution_count": 2,
   "metadata": {},
   "outputs": [],
   "source": [
    "import requests, json\n"
   ]
  },
  {
   "cell_type": "code",
   "execution_count": 3,
   "metadata": {},
   "outputs": [],
   "source": [
    "api_key = \"c89d098c41c75d31f57ca2a4b12d0eeb\"\n",
    "api_key2= \"f60822f9e7b31667c7fbdd53d73977b8\"\n",
    "base_url = \"http://api.openweathermap.org/data/2.5/weather?\"\n"
   ]
  },
  {
   "cell_type": "code",
   "execution_count": 4,
   "metadata": {},
   "outputs": [],
   "source": [
    "# Give city name\n",
    "city_name = input(\"Munich\")"
   ]
  },
  {
   "cell_type": "code",
   "execution_count": 5,
   "metadata": {},
   "outputs": [],
   "source": [
    "#initialize variable temperature_celsius\n",
    "temperature_celsius = 0\n"
   ]
  },
  {
   "cell_type": "code",
   "execution_count": null,
   "metadata": {},
   "outputs": [],
   "source": []
  },
  {
   "cell_type": "code",
   "execution_count": 6,
   "metadata": {},
   "outputs": [],
   "source": [
    "def get_weather(city):\n",
    "    global temperature_celsius\n",
    "    global humidity\n",
    "    api_key = 'f60822f9e7b31667c7fbdd53d73977b8'\n",
    "    url = f'http://api.openweathermap.org/data/2.5/weather?q={city}&appid={api_key}'\n",
    "\n",
    "    try:\n",
    "        response = requests.get(url)\n",
    "        data = response.json()\n",
    "\n",
    "        if response.status_code == 200:\n",
    "            weather = data['weather'][0]['description']\n",
    "            temperature = data['main']['temp']\n",
    "            temperature_celsius = temperature - 273.15              \n",
    "            temperature_celsius = round(temperature_celsius, 0)\n",
    "            #convert temperature celsius to integer\n",
    "            temperature_celsius = int(temperature_celsius)\n",
    "            humidity = data['main']['humidity']\n",
    "            humidity = float(humidity)\n",
    "\n",
    "\n",
    "            print(f\"Weather in {city}: {weather}\")\n",
    "            print(f\"Temperature: {temperature_celsius} C\")\n",
    "            print(f\"Humidity: {humidity}%\")\n",
    "\n",
    "        else:\n",
    "            print(f\"Error: {data['message']}\")\n",
    "            \n",
    "    except requests.exceptions.RequestException as e:\n",
    "        print(f\"Error: {str(e)}\")\n",
    "\n"
   ]
  },
  {
   "cell_type": "code",
   "execution_count": 7,
   "metadata": {},
   "outputs": [
    {
     "name": "stdout",
     "output_type": "stream",
     "text": [
      "Weather in Munich: clear sky\n",
      "Temperature: 17 C\n",
      "Humidity: 63.0%\n"
     ]
    }
   ],
   "source": [
    "\n",
    "# Example usage\n",
    "get_weather('Munich')"
   ]
  },
  {
   "cell_type": "code",
   "execution_count": 8,
   "metadata": {},
   "outputs": [
    {
     "data": {
      "text/plain": [
       "17"
      ]
     },
     "execution_count": 8,
     "metadata": {},
     "output_type": "execute_result"
    }
   ],
   "source": [
    "temperature_celsius"
   ]
  },
  {
   "cell_type": "code",
   "execution_count": 9,
   "metadata": {},
   "outputs": [
    {
     "data": {
      "text/plain": [
       "63.0"
      ]
     },
     "execution_count": 9,
     "metadata": {},
     "output_type": "execute_result"
    }
   ],
   "source": [
    "humidity"
   ]
  },
  {
   "cell_type": "code",
   "execution_count": 36,
   "metadata": {},
   "outputs": [],
   "source": [
    "\n",
    "def get_demands_by_temperature(temperature_celsius):\n",
    "    global wine_demand\n",
    "    global ice_cream_demand\n",
    "    global coffee_demand\n",
    "    #make\n",
    "    \n",
    "\n",
    "    if temperature_celsius <= 10:\n",
    "        wine_demand = int(80)\n",
    "        ice_cream_demand = int(5)\n",
    "        coffee_demand = int(60)\n",
    "    elif temperature_celsius > 10 and temperature_celsius <= 20:\n",
    "        wine_demand = int(30)\n",
    "        ice_cream_demand = int(20)\n",
    "        coffee_demand = int(80)\n",
    "    elif temperature_celsius > 20:\n",
    "        wine_demand = int(5)\n",
    "        ice_cream_demand = int(80)\n",
    "        coffee_demand = int(40)\n",
    "\n",
    "    return wine_demand, ice_cream_demand, coffee_demand"
   ]
  },
  {
   "cell_type": "code",
   "execution_count": 37,
   "metadata": {},
   "outputs": [
    {
     "data": {
      "text/plain": [
       "(30, 20, 80)"
      ]
     },
     "execution_count": 37,
     "metadata": {},
     "output_type": "execute_result"
    }
   ],
   "source": [
    "get_demands_by_temperature(temperature_celsius)"
   ]
  },
  {
   "cell_type": "code",
   "execution_count": 38,
   "metadata": {},
   "outputs": [
    {
     "data": {
      "text/plain": [
       "30"
      ]
     },
     "execution_count": 38,
     "metadata": {},
     "output_type": "execute_result"
    }
   ],
   "source": [
    "wine_demand"
   ]
  },
  {
   "cell_type": "raw",
   "metadata": {},
   "source": [
    "#if temperature_celsius between 0 and 10 degrees, wine demand is high, coffee demand in medium and ice cream demand is low\n",
    "if temperature_celsius <= 10: \n",
    "    wine_demand_cold = 80\n",
    "    ice_cream_demand_cold = 5\n",
    "    coffee_demand_cold = 60\n",
    "    \n",
    "#if temperature_celsius between 10 and 20 degrees, wine demand is medium, coffee demand in high and ice cream demand is medium\n",
    "elif temperature_celsius > 10 and temperature_celsius <= 20:\n",
    "    wine_demand_mild = 30\n",
    "    ice_cream_demand_mild = 20\n",
    "    coffee_demand_mild = 80\n",
    "    \n",
    "#if temperature_celsius between 20 and 30 degrees, wine demand is low, coffee demand in medium and ice cream demand is high\n",
    "elif temperature_celsius > 20:\n",
    "    wine_demand_warm = 5\n",
    "    ice_cream_demand_warm = 80\n",
    "    coffee_demand_warm = 40\n",
    "    "
   ]
  },
  {
   "attachments": {},
   "cell_type": "markdown",
   "metadata": {},
   "source": [
    "# Creating seasons and demand "
   ]
  },
  {
   "cell_type": "code",
   "execution_count": 39,
   "metadata": {},
   "outputs": [],
   "source": [
    "# create three variables for hot_wine, coffee and ice_cream with bounds between 0 and 40 which must be random\n",
    "hot_wine = pyo.Var(within=pyo.NonNegativeReals, bounds=(0,100), initialize= wine_demand)\n",
    "coffee = pyo.Var(within=pyo.NonNegativeReals, bounds=(0,100), initialize= coffee_demand)\n",
    "ice_cream = pyo.Var(within=pyo.NonNegativeReals, bounds=(0,100), initialize= ice_cream_demand)"
   ]
  },
  {
   "attachments": {},
   "cell_type": "markdown",
   "metadata": {},
   "source": [
    "## Creating a concrete model"
   ]
  },
  {
   "attachments": {},
   "cell_type": "markdown",
   "metadata": {},
   "source": [
    "The concrete model is to represent the optimization problem"
   ]
  },
  {
   "cell_type": "code",
   "execution_count": 40,
   "metadata": {},
   "outputs": [],
   "source": [
    "# Create a concrete model\n",
    "model = pyo.ConcreteModel()"
   ]
  },
  {
   "cell_type": "code",
   "execution_count": 43,
   "metadata": {},
   "outputs": [
    {
     "name": "stdout",
     "output_type": "stream",
     "text": [
      "1 Objective Declarations\n",
      "    obj : Size=1, Index=None, Active=True\n",
      "        Key  : Active : Sense    : Expression\n",
      "        None :   True : maximize : 2*AbstractScalarVar + 3*AbstractScalarVar + AbstractScalarVar\n",
      "\n",
      "1 Declarations: obj\n"
     ]
    }
   ],
   "source": [
    "#show model \n",
    "model.pprint()"
   ]
  },
  {
   "attachments": {},
   "cell_type": "markdown",
   "metadata": {},
   "source": [
    "## Define the Objective Function"
   ]
  },
  {
   "attachments": {},
   "cell_type": "markdown",
   "metadata": {},
   "source": [
    "These are the profits"
   ]
  },
  {
   "cell_type": "code",
   "execution_count": 44,
   "metadata": {},
   "outputs": [
    {
     "name": "stdout",
     "output_type": "stream",
     "text": [
      "WARNING: Implicitly replacing the Component attribute obj (type=<class\n",
      "'pyomo.core.base.objective.ScalarObjective'>) on block unknown with a new\n",
      "Component (type=<class 'pyomo.core.base.objective.ScalarObjective'>). This is\n",
      "usually indicative of a modelling error. To avoid this warning, use\n",
      "block.del_component() and block.add_component().\n"
     ]
    }
   ],
   "source": [
    "#define the objective function\n",
    "model.obj = pyo.Objective(expr = 2*hot_wine + 3*coffee + ice_cream, sense = maximize)"
   ]
  },
  {
   "cell_type": "code",
   "execution_count": 45,
   "metadata": {},
   "outputs": [
    {
     "name": "stdout",
     "output_type": "stream",
     "text": [
      "1 Objective Declarations\n",
      "    obj : Size=1, Index=None, Active=True\n",
      "        Key  : Active : Sense    : Expression\n",
      "        None :   True : maximize : 2*AbstractScalarVar + 3*AbstractScalarVar + AbstractScalarVar\n",
      "\n",
      "1 Declarations: obj\n"
     ]
    }
   ],
   "source": [
    "#show the objective function\n",
    "model.pprint()"
   ]
  },
  {
   "attachments": {},
   "cell_type": "markdown",
   "metadata": {},
   "source": [
    "## Define the Constrains"
   ]
  },
  {
   "attachments": {},
   "cell_type": "markdown",
   "metadata": {},
   "source": [
    "These are the weights"
   ]
  },
  {
   "cell_type": "code",
   "execution_count": 46,
   "metadata": {},
   "outputs": [],
   "source": [
    "#capacity constraint for hot_wine and ice_cream and coffee\n",
    "model.hot_wine_con = pyo.Constraint(expr = hot_wine <= 120)\n",
    "model.coffee_con = pyo.Constraint(expr = coffee <= 200)\n",
    "model.ice_cream_con = pyo.Constraint(expr = ice_cream <= 70)"
   ]
  },
  {
   "cell_type": "raw",
   "metadata": {},
   "source": [
    "#demand constrains for hot_wine, coffee and ice_cream\n",
    "model.hot_wine_demand_con = pyo.Constraint(expr = hot_wine >= (get_demands_by_temperature(temperature_celsius)[0])*(humidity/100))\n",
    "model.coffee_con2 = pyo.Constraint(expr = coffee >= (get_demands_by_temperature(temperature_celsius)[1])*(humidity/100))\n",
    "model.ice_cream_con2 = pyo.Constraint(expr = ice_cream >= (get_demands_by_temperature(temperature_celsius)[2])*(humidity/100))"
   ]
  },
  {
   "cell_type": "code",
   "execution_count": 47,
   "metadata": {},
   "outputs": [],
   "source": [
    "instance = model.create_instance()  # Create a concrete instance of the model"
   ]
  },
  {
   "cell_type": "code",
   "execution_count": 48,
   "metadata": {},
   "outputs": [
    {
     "ename": "RuntimeError",
     "evalue": "Cannot access property 'fixed' on AbstractScalarVar 'AbstractScalarVar' before it has been constructed (initialized): 'fixed' is an attribute on an Abstract component and cannot be accessed until the component has been fully constructed (converted to a Concrete component) using AbstractModel.create_instance() or AbstractScalarVar.construct().",
     "output_type": "error",
     "traceback": [
      "\u001b[0;31m---------------------------------------------------------------------------\u001b[0m",
      "\u001b[0;31mRuntimeError\u001b[0m                              Traceback (most recent call last)",
      "\u001b[1;32m/home/callysthenes/reinforcement_learning/integer_optimization_pyomo_restaurant.ipynb Cell 32\u001b[0m in \u001b[0;36m3\n\u001b[1;32m      <a href='vscode-notebook-cell://wsl%2Bkali-linux/home/callysthenes/reinforcement_learning/integer_optimization_pyomo_restaurant.ipynb#Y112sdnNjb2RlLXJlbW90ZQ%3D%3D?line=0'>1</a>\u001b[0m \u001b[39m#create different solvers and solve the model\u001b[39;00m\n\u001b[1;32m      <a href='vscode-notebook-cell://wsl%2Bkali-linux/home/callysthenes/reinforcement_learning/integer_optimization_pyomo_restaurant.ipynb#Y112sdnNjb2RlLXJlbW90ZQ%3D%3D?line=1'>2</a>\u001b[0m opt \u001b[39m=\u001b[39m SolverFactory(\u001b[39m'\u001b[39m\u001b[39mcbc\u001b[39m\u001b[39m'\u001b[39m)\n\u001b[0;32m----> <a href='vscode-notebook-cell://wsl%2Bkali-linux/home/callysthenes/reinforcement_learning/integer_optimization_pyomo_restaurant.ipynb#Y112sdnNjb2RlLXJlbW90ZQ%3D%3D?line=2'>3</a>\u001b[0m results \u001b[39m=\u001b[39m opt\u001b[39m.\u001b[39;49msolve(instance) \u001b[39m# solves and updates instance\u001b[39;00m\n\u001b[1;32m      <a href='vscode-notebook-cell://wsl%2Bkali-linux/home/callysthenes/reinforcement_learning/integer_optimization_pyomo_restaurant.ipynb#Y112sdnNjb2RlLXJlbW90ZQ%3D%3D?line=3'>4</a>\u001b[0m instance\u001b[39m.\u001b[39mdisplay() \u001b[39m# display solution\u001b[39;00m\n\u001b[1;32m      <a href='vscode-notebook-cell://wsl%2Bkali-linux/home/callysthenes/reinforcement_learning/integer_optimization_pyomo_restaurant.ipynb#Y112sdnNjb2RlLXJlbW90ZQ%3D%3D?line=5'>6</a>\u001b[0m \u001b[39m# print the values of the variables\u001b[39;00m\n",
      "File \u001b[0;32m~/.local/lib/python3.11/site-packages/pyomo/opt/base/solvers.py:597\u001b[0m, in \u001b[0;36mOptSolver.solve\u001b[0;34m(self, *args, **kwds)\u001b[0m\n\u001b[1;32m    593\u001b[0m \u001b[39mtry\u001b[39;00m:\n\u001b[1;32m    594\u001b[0m     \u001b[39m# we're good to go.\u001b[39;00m\n\u001b[1;32m    595\u001b[0m     initial_time \u001b[39m=\u001b[39m time\u001b[39m.\u001b[39mtime()\n\u001b[0;32m--> 597\u001b[0m     \u001b[39mself\u001b[39;49m\u001b[39m.\u001b[39;49m_presolve(\u001b[39m*\u001b[39;49margs, \u001b[39m*\u001b[39;49m\u001b[39m*\u001b[39;49mkwds)\n\u001b[1;32m    599\u001b[0m     presolve_completion_time \u001b[39m=\u001b[39m time\u001b[39m.\u001b[39mtime()\n\u001b[1;32m    600\u001b[0m     \u001b[39mif\u001b[39;00m \u001b[39mself\u001b[39m\u001b[39m.\u001b[39m_report_timing:\n",
      "File \u001b[0;32m~/.local/lib/python3.11/site-packages/pyomo/solvers/plugins/solvers/CBCplugin.py:263\u001b[0m, in \u001b[0;36mCBCSHELL._presolve\u001b[0;34m(self, *args, **kwds)\u001b[0m\n\u001b[1;32m    255\u001b[0m             logger\u001b[39m.\u001b[39mwarning(\n\u001b[1;32m    256\u001b[0m                 \u001b[39m\"\u001b[39m\u001b[39mwarmstart_file points to a file on a drive \u001b[39m\u001b[39m\"\u001b[39m\n\u001b[1;32m    257\u001b[0m                 \u001b[39m\"\u001b[39m\u001b[39mdifferent from the current working directory.  \u001b[39m\u001b[39m\"\u001b[39m\n\u001b[1;32m    258\u001b[0m                 \u001b[39m\"\u001b[39m\u001b[39mCBC is likely to (silently) ignore the warmstart.\u001b[39m\u001b[39m\"\u001b[39m\n\u001b[1;32m    259\u001b[0m             )\n\u001b[1;32m    261\u001b[0m \u001b[39m# let the base class handle any remaining keywords/actions.\u001b[39;00m\n\u001b[1;32m    262\u001b[0m \u001b[39m# let the base class handle any remaining keywords/actions.\u001b[39;00m\n\u001b[0;32m--> 263\u001b[0m \u001b[39msuper\u001b[39;49m(CBCSHELL, \u001b[39mself\u001b[39;49m)\u001b[39m.\u001b[39;49m_presolve(\u001b[39m*\u001b[39;49margs, \u001b[39m*\u001b[39;49m\u001b[39m*\u001b[39;49mkwds)\n\u001b[1;32m    265\u001b[0m \u001b[39m# NB: we must let the base class presolve run first so that the\u001b[39;00m\n\u001b[1;32m    266\u001b[0m \u001b[39m# symbol_map is actually constructed!\u001b[39;00m\n\u001b[1;32m    268\u001b[0m \u001b[39mif\u001b[39;00m (\u001b[39mlen\u001b[39m(args) \u001b[39m>\u001b[39m \u001b[39m0\u001b[39m) \u001b[39mand\u001b[39;00m (\u001b[39mnot\u001b[39;00m \u001b[39misinstance\u001b[39m(args[\u001b[39m0\u001b[39m], \u001b[39mstr\u001b[39m)):\n",
      "File \u001b[0;32m~/.local/lib/python3.11/site-packages/pyomo/opt/solver/shellcmd.py:224\u001b[0m, in \u001b[0;36mSystemCallSolver._presolve\u001b[0;34m(self, *args, **kwds)\u001b[0m\n\u001b[1;32m    221\u001b[0m \u001b[39mself\u001b[39m\u001b[39m.\u001b[39m_keepfiles \u001b[39m=\u001b[39m kwds\u001b[39m.\u001b[39mpop(\u001b[39m\"\u001b[39m\u001b[39mkeepfiles\u001b[39m\u001b[39m\"\u001b[39m, \u001b[39mFalse\u001b[39;00m)\n\u001b[1;32m    222\u001b[0m \u001b[39mself\u001b[39m\u001b[39m.\u001b[39m_define_signal_handlers \u001b[39m=\u001b[39m kwds\u001b[39m.\u001b[39mpop(\u001b[39m'\u001b[39m\u001b[39muse_signal_handling\u001b[39m\u001b[39m'\u001b[39m, \u001b[39mNone\u001b[39;00m)\n\u001b[0;32m--> 224\u001b[0m OptSolver\u001b[39m.\u001b[39;49m_presolve(\u001b[39mself\u001b[39;49m, \u001b[39m*\u001b[39;49margs, \u001b[39m*\u001b[39;49m\u001b[39m*\u001b[39;49mkwds)\n\u001b[1;32m    226\u001b[0m \u001b[39m#\u001b[39;00m\n\u001b[1;32m    227\u001b[0m \u001b[39m# Verify that the input problems exists\u001b[39;00m\n\u001b[1;32m    228\u001b[0m \u001b[39m#\u001b[39;00m\n\u001b[1;32m    229\u001b[0m \u001b[39mfor\u001b[39;00m filename \u001b[39min\u001b[39;00m \u001b[39mself\u001b[39m\u001b[39m.\u001b[39m_problem_files:\n",
      "File \u001b[0;32m~/.local/lib/python3.11/site-packages/pyomo/opt/base/solvers.py:706\u001b[0m, in \u001b[0;36mOptSolver._presolve\u001b[0;34m(self, *args, **kwds)\u001b[0m\n\u001b[1;32m    700\u001b[0m \u001b[39mif\u001b[39;00m \u001b[39mself\u001b[39m\u001b[39m.\u001b[39m_problem_format:\n\u001b[1;32m    701\u001b[0m     write_start_time \u001b[39m=\u001b[39m time\u001b[39m.\u001b[39mtime()\n\u001b[1;32m    702\u001b[0m     (\n\u001b[1;32m    703\u001b[0m         \u001b[39mself\u001b[39m\u001b[39m.\u001b[39m_problem_files,\n\u001b[1;32m    704\u001b[0m         \u001b[39mself\u001b[39m\u001b[39m.\u001b[39m_problem_format,\n\u001b[1;32m    705\u001b[0m         \u001b[39mself\u001b[39m\u001b[39m.\u001b[39m_smap_id,\n\u001b[0;32m--> 706\u001b[0m     ) \u001b[39m=\u001b[39m \u001b[39mself\u001b[39;49m\u001b[39m.\u001b[39;49m_convert_problem(\n\u001b[1;32m    707\u001b[0m         args, \u001b[39mself\u001b[39;49m\u001b[39m.\u001b[39;49m_problem_format, \u001b[39mself\u001b[39;49m\u001b[39m.\u001b[39;49m_valid_problem_formats, \u001b[39m*\u001b[39;49m\u001b[39m*\u001b[39;49mkwds\n\u001b[1;32m    708\u001b[0m     )\n\u001b[1;32m    709\u001b[0m     total_time \u001b[39m=\u001b[39m time\u001b[39m.\u001b[39mtime() \u001b[39m-\u001b[39m write_start_time\n\u001b[1;32m    710\u001b[0m     \u001b[39mif\u001b[39;00m \u001b[39mself\u001b[39m\u001b[39m.\u001b[39m_report_timing:\n",
      "File \u001b[0;32m~/.local/lib/python3.11/site-packages/pyomo/opt/base/solvers.py:757\u001b[0m, in \u001b[0;36mOptSolver._convert_problem\u001b[0;34m(self, args, problem_format, valid_problem_formats, **kwds)\u001b[0m\n\u001b[1;32m    756\u001b[0m \u001b[39mdef\u001b[39;00m \u001b[39m_convert_problem\u001b[39m(\u001b[39mself\u001b[39m, args, problem_format, valid_problem_formats, \u001b[39m*\u001b[39m\u001b[39m*\u001b[39mkwds):\n\u001b[0;32m--> 757\u001b[0m     \u001b[39mreturn\u001b[39;00m convert_problem(\n\u001b[1;32m    758\u001b[0m         args, problem_format, valid_problem_formats, \u001b[39mself\u001b[39;49m\u001b[39m.\u001b[39;49mhas_capability, \u001b[39m*\u001b[39;49m\u001b[39m*\u001b[39;49mkwds\n\u001b[1;32m    759\u001b[0m     )\n",
      "File \u001b[0;32m~/.local/lib/python3.11/site-packages/pyomo/opt/base/convert.py:99\u001b[0m, in \u001b[0;36mconvert_problem\u001b[0;34m(args, target_problem_type, valid_problem_types, has_capability, **kwds)\u001b[0m\n\u001b[1;32m     97\u001b[0m                 tmpkw \u001b[39m=\u001b[39m kwds\n\u001b[1;32m     98\u001b[0m                 tmpkw[\u001b[39m'\u001b[39m\u001b[39mcapabilities\u001b[39m\u001b[39m'\u001b[39m] \u001b[39m=\u001b[39m has_capability\n\u001b[0;32m---> 99\u001b[0m                 problem_files, symbol_map \u001b[39m=\u001b[39m converter\u001b[39m.\u001b[39;49mapply(\u001b[39m*\u001b[39;49mtmp, \u001b[39m*\u001b[39;49m\u001b[39m*\u001b[39;49mtmpkw)\n\u001b[1;32m    100\u001b[0m                 \u001b[39mreturn\u001b[39;00m problem_files, ptype, symbol_map\n\u001b[1;32m    102\u001b[0m msg \u001b[39m=\u001b[39m \u001b[39m'\u001b[39m\u001b[39mNo conversion possible.  Source problem type: \u001b[39m\u001b[39m%s\u001b[39;00m\u001b[39m.  Valid target types: \u001b[39m\u001b[39m%s\u001b[39;00m\u001b[39m'\u001b[39m\n",
      "File \u001b[0;32m~/.local/lib/python3.11/site-packages/pyomo/solvers/plugins/converter/model.py:78\u001b[0m, in \u001b[0;36mPyomoMIPConverter.apply\u001b[0;34m(self, *args, **kwds)\u001b[0m\n\u001b[1;32m     70\u001b[0m         symbol_map_id \u001b[39m=\u001b[39m instance\u001b[39m.\u001b[39mwrite(\n\u001b[1;32m     71\u001b[0m             problem_filename,\n\u001b[1;32m     72\u001b[0m             \u001b[39mformat\u001b[39m\u001b[39m=\u001b[39mProblemFormat\u001b[39m.\u001b[39mcpxlp,\n\u001b[0;32m   (...)\u001b[0m\n\u001b[1;32m     75\u001b[0m             \u001b[39m*\u001b[39m\u001b[39m*\u001b[39mio_options\n\u001b[1;32m     76\u001b[0m         )\n\u001b[1;32m     77\u001b[0m     \u001b[39melse\u001b[39;00m:\n\u001b[0;32m---> 78\u001b[0m         (problem_filename, symbol_map_id) \u001b[39m=\u001b[39m instance\u001b[39m.\u001b[39;49mwrite(\n\u001b[1;32m     79\u001b[0m             filename\u001b[39m=\u001b[39;49mproblem_filename,\n\u001b[1;32m     80\u001b[0m             \u001b[39mformat\u001b[39;49m\u001b[39m=\u001b[39;49mProblemFormat\u001b[39m.\u001b[39;49mcpxlp,\n\u001b[1;32m     81\u001b[0m             solver_capability\u001b[39m=\u001b[39;49mcapabilities,\n\u001b[1;32m     82\u001b[0m             io_options\u001b[39m=\u001b[39;49mio_options,\n\u001b[1;32m     83\u001b[0m         )\n\u001b[1;32m     84\u001b[0m     \u001b[39mreturn\u001b[39;00m (problem_filename,), symbol_map_id\n\u001b[1;32m     85\u001b[0m \u001b[39melse\u001b[39;00m:\n\u001b[1;32m     86\u001b[0m     \u001b[39m#\u001b[39;00m\n\u001b[1;32m     87\u001b[0m     \u001b[39m# I'm simply exposing a fatal issue with\u001b[39;00m\n\u001b[0;32m   (...)\u001b[0m\n\u001b[1;32m     90\u001b[0m     \u001b[39m# arguments that can be sent to the writer?\u001b[39;00m\n\u001b[1;32m     91\u001b[0m     \u001b[39m#\u001b[39;00m\n",
      "File \u001b[0;32m~/.local/lib/python3.11/site-packages/pyomo/core/base/block.py:1983\u001b[0m, in \u001b[0;36m_BlockData.write\u001b[0;34m(self, filename, format, solver_capability, io_options)\u001b[0m\n\u001b[1;32m   1980\u001b[0m     \u001b[39mdef\u001b[39;00m \u001b[39msolver_capability\u001b[39m(x):\n\u001b[1;32m   1981\u001b[0m         \u001b[39mreturn\u001b[39;00m \u001b[39mTrue\u001b[39;00m\n\u001b[0;32m-> 1983\u001b[0m (filename, smap) \u001b[39m=\u001b[39m problem_writer(\u001b[39mself\u001b[39;49m, filename, solver_capability, io_options)\n\u001b[1;32m   1984\u001b[0m smap_id \u001b[39m=\u001b[39m \u001b[39mid\u001b[39m(smap)\n\u001b[1;32m   1985\u001b[0m \u001b[39mif\u001b[39;00m \u001b[39mnot\u001b[39;00m \u001b[39mhasattr\u001b[39m(\u001b[39mself\u001b[39m, \u001b[39m'\u001b[39m\u001b[39msolutions\u001b[39m\u001b[39m'\u001b[39m):\n\u001b[1;32m   1986\u001b[0m     \u001b[39m# This is a bit of a hack.  The write() method was moved\u001b[39;00m\n\u001b[1;32m   1987\u001b[0m     \u001b[39m# here from PyomoModel to support the solution of arbitrary\u001b[39;00m\n\u001b[0;32m   (...)\u001b[0m\n\u001b[1;32m   1992\u001b[0m     \u001b[39m# dependency (we only need it here because we store the\u001b[39;00m\n\u001b[1;32m   1993\u001b[0m     \u001b[39m# SymbolMap returned by the writer in the solutions).\u001b[39;00m\n",
      "File \u001b[0;32m~/.local/lib/python3.11/site-packages/pyomo/repn/plugins/lp_writer.py:207\u001b[0m, in \u001b[0;36mLPWriter.__call__\u001b[0;34m(self, model, filename, solver_capability, io_options)\u001b[0m\n\u001b[1;32m    204\u001b[0m     io_options[\u001b[39m'\u001b[39m\u001b[39mallow_quadratic_constraint\u001b[39m\u001b[39m'\u001b[39m] \u001b[39m=\u001b[39m qc\n\u001b[1;32m    206\u001b[0m \u001b[39mwith\u001b[39;00m \u001b[39mopen\u001b[39m(filename, \u001b[39m'\u001b[39m\u001b[39mw\u001b[39m\u001b[39m'\u001b[39m, newline\u001b[39m=\u001b[39m\u001b[39m'\u001b[39m\u001b[39m'\u001b[39m) \u001b[39mas\u001b[39;00m FILE:\n\u001b[0;32m--> 207\u001b[0m     info \u001b[39m=\u001b[39m \u001b[39mself\u001b[39;49m\u001b[39m.\u001b[39;49mwrite(model, FILE, \u001b[39m*\u001b[39;49m\u001b[39m*\u001b[39;49mio_options)\n\u001b[1;32m    208\u001b[0m \u001b[39mreturn\u001b[39;00m filename, info\u001b[39m.\u001b[39msymbol_map\n",
      "File \u001b[0;32m~/.local/lib/python3.11/site-packages/pyomo/repn/plugins/lp_writer.py:240\u001b[0m, in \u001b[0;36mLPWriter.write\u001b[0;34m(self, model, ostream, **options)\u001b[0m\n\u001b[1;32m    236\u001b[0m \u001b[39m# Pause the GC, as the walker that generates the compiled LP\u001b[39;00m\n\u001b[1;32m    237\u001b[0m \u001b[39m# representation generates (and disposes of) a large number of\u001b[39;00m\n\u001b[1;32m    238\u001b[0m \u001b[39m# small objects.\u001b[39;00m\n\u001b[1;32m    239\u001b[0m \u001b[39mwith\u001b[39;00m PauseGC():\n\u001b[0;32m--> 240\u001b[0m     \u001b[39mreturn\u001b[39;00m _LPWriter_impl(ostream, config)\u001b[39m.\u001b[39;49mwrite(model)\n",
      "File \u001b[0;32m~/.local/lib/python3.11/site-packages/pyomo/repn/plugins/lp_writer.py:350\u001b[0m, in \u001b[0;36m_LPWriter_impl.write\u001b[0;34m(self, model)\u001b[0m\n\u001b[1;32m    345\u001b[0m obj \u001b[39m=\u001b[39m objectives[\u001b[39m0\u001b[39m]\n\u001b[1;32m    346\u001b[0m ostream\u001b[39m.\u001b[39mwrite(\n\u001b[1;32m    347\u001b[0m     (\u001b[39m\"\u001b[39m\u001b[39mmin \u001b[39m\u001b[39m\\n\u001b[39;00m\u001b[39m%s\u001b[39;00m\u001b[39m:\u001b[39m\u001b[39m\\n\u001b[39;00m\u001b[39m\"\u001b[39m \u001b[39mif\u001b[39;00m obj\u001b[39m.\u001b[39msense \u001b[39m==\u001b[39m minimize \u001b[39melse\u001b[39;00m \u001b[39m\"\u001b[39m\u001b[39mmax \u001b[39m\u001b[39m\\n\u001b[39;00m\u001b[39m%s\u001b[39;00m\u001b[39m:\u001b[39m\u001b[39m\\n\u001b[39;00m\u001b[39m\"\u001b[39m)\n\u001b[1;32m    348\u001b[0m     \u001b[39m%\u001b[39m (getSymbol(obj, labeler),)\n\u001b[1;32m    349\u001b[0m )\n\u001b[0;32m--> 350\u001b[0m repn \u001b[39m=\u001b[39m objective_visitor\u001b[39m.\u001b[39;49mwalk_expression(obj\u001b[39m.\u001b[39;49mexpr)\n\u001b[1;32m    351\u001b[0m \u001b[39mif\u001b[39;00m repn\u001b[39m.\u001b[39mnonlinear \u001b[39mis\u001b[39;00m \u001b[39mnot\u001b[39;00m \u001b[39mNone\u001b[39;00m:\n\u001b[1;32m    352\u001b[0m     \u001b[39mraise\u001b[39;00m \u001b[39mValueError\u001b[39;00m(\n\u001b[1;32m    353\u001b[0m         \u001b[39mf\u001b[39m\u001b[39m\"\u001b[39m\u001b[39mModel objective (\u001b[39m\u001b[39m{\u001b[39;00mobj\u001b[39m.\u001b[39mname\u001b[39m}\u001b[39;00m\u001b[39m) contains nonlinear terms that \u001b[39m\u001b[39m\"\u001b[39m\n\u001b[1;32m    354\u001b[0m         \u001b[39m\"\u001b[39m\u001b[39mcannot be written to LP format\u001b[39m\u001b[39m\"\u001b[39m\n\u001b[1;32m    355\u001b[0m     )\n",
      "File \u001b[0;32m~/.local/lib/python3.11/site-packages/pyomo/core/expr/visitor.py:260\u001b[0m, in \u001b[0;36mStreamBasedExpressionVisitor.walk_expression\u001b[0;34m(self, expr)\u001b[0m\n\u001b[1;32m    258\u001b[0m \u001b[39m\u001b[39m\u001b[39m\"\"\"Walk an expression, calling registered callbacks.\"\"\"\u001b[39;00m\n\u001b[1;32m    259\u001b[0m \u001b[39mif\u001b[39;00m \u001b[39mself\u001b[39m\u001b[39m.\u001b[39minitializeWalker \u001b[39mis\u001b[39;00m \u001b[39mnot\u001b[39;00m \u001b[39mNone\u001b[39;00m:\n\u001b[0;32m--> 260\u001b[0m     walk, root \u001b[39m=\u001b[39m \u001b[39mself\u001b[39;49m\u001b[39m.\u001b[39;49minitializeWalker(expr)\n\u001b[1;32m    261\u001b[0m     \u001b[39mif\u001b[39;00m \u001b[39mnot\u001b[39;00m walk:\n\u001b[1;32m    262\u001b[0m         \u001b[39mreturn\u001b[39;00m root\n",
      "File \u001b[0;32m~/.local/lib/python3.11/site-packages/pyomo/repn/linear.py:869\u001b[0m, in \u001b[0;36mLinearRepnVisitor.initializeWalker\u001b[0;34m(self, expr)\u001b[0m\n\u001b[1;32m    868\u001b[0m \u001b[39mdef\u001b[39;00m \u001b[39minitializeWalker\u001b[39m(\u001b[39mself\u001b[39m, expr):\n\u001b[0;32m--> 869\u001b[0m     walk, result \u001b[39m=\u001b[39m \u001b[39mself\u001b[39;49m\u001b[39m.\u001b[39;49mbeforeChild(\u001b[39mNone\u001b[39;49;00m, expr, \u001b[39m0\u001b[39;49m)\n\u001b[1;32m    870\u001b[0m     \u001b[39mif\u001b[39;00m \u001b[39mnot\u001b[39;00m walk:\n\u001b[1;32m    871\u001b[0m         \u001b[39mreturn\u001b[39;00m \u001b[39mFalse\u001b[39;00m, \u001b[39mself\u001b[39m\u001b[39m.\u001b[39mfinalizeResult(result)\n",
      "File \u001b[0;32m~/.local/lib/python3.11/site-packages/pyomo/repn/linear.py:875\u001b[0m, in \u001b[0;36mLinearRepnVisitor.beforeChild\u001b[0;34m(self, node, child, child_idx)\u001b[0m\n\u001b[1;32m    874\u001b[0m \u001b[39mdef\u001b[39;00m \u001b[39mbeforeChild\u001b[39m(\u001b[39mself\u001b[39m, node, child, child_idx):\n\u001b[0;32m--> 875\u001b[0m     \u001b[39mreturn\u001b[39;00m _before_child_dispatcher[child\u001b[39m.\u001b[39;49m\u001b[39m__class__\u001b[39;49m](\u001b[39mself\u001b[39;49m, child)\n",
      "File \u001b[0;32m~/.local/lib/python3.11/site-packages/pyomo/repn/linear.py:677\u001b[0m, in \u001b[0;36m_before_linear\u001b[0;34m(visitor, child)\u001b[0m\n\u001b[1;32m    675\u001b[0m _id \u001b[39m=\u001b[39m \u001b[39mid\u001b[39m(arg2)\n\u001b[1;32m    676\u001b[0m \u001b[39mif\u001b[39;00m _id \u001b[39mnot\u001b[39;00m \u001b[39min\u001b[39;00m var_map:\n\u001b[0;32m--> 677\u001b[0m     \u001b[39mif\u001b[39;00m arg2\u001b[39m.\u001b[39;49mfixed:\n\u001b[1;32m    678\u001b[0m         const \u001b[39m+\u001b[39m\u001b[39m=\u001b[39m arg1 \u001b[39m*\u001b[39m visitor\u001b[39m.\u001b[39m_eval_expr(arg2)\n\u001b[1;32m    679\u001b[0m         \u001b[39mcontinue\u001b[39;00m\n",
      "File \u001b[0;32m<string>:2\u001b[0m, in \u001b[0;36mfixed\u001b[0;34m(self)\u001b[0m\n",
      "\u001b[0;31mRuntimeError\u001b[0m: Cannot access property 'fixed' on AbstractScalarVar 'AbstractScalarVar' before it has been constructed (initialized): 'fixed' is an attribute on an Abstract component and cannot be accessed until the component has been fully constructed (converted to a Concrete component) using AbstractModel.create_instance() or AbstractScalarVar.construct()."
     ]
    }
   ],
   "source": [
    "#create different solvers and solve the model\n",
    "opt = SolverFactory('cbc')\n",
    "results = opt.solve(instance) # solves and updates instance\n",
    "instance.display() # display solution\n",
    "  \n",
    "# print the values of the variables\n",
    "print(\"The value of hot_wine is: \" + str(pyo.value(instance.hot_wine)))\n",
    "print(\"The value of coffee is: \" + str(pyo.value(instance.coffee)))\n",
    "print(\"The value of ice_cream is: \" + str(pyo.value(instance.ice_cream)))\n",
    "  \n",
    "# print the values of the objective function\n",
    "print(\"The value of the objective function is: \" + str(pyo.value(instance.obj)))\n",
    "\n",
    " "
   ]
  },
  {
   "cell_type": "code",
   "execution_count": 30,
   "metadata": {},
   "outputs": [
    {
     "ename": "RuntimeError",
     "evalue": "Cannot access property 'fixed' on AbstractScalarVar 'AbstractScalarVar' before it has been constructed (initialized): 'fixed' is an attribute on an Abstract component and cannot be accessed until the component has been fully constructed (converted to a Concrete component) using AbstractModel.create_instance() or AbstractScalarVar.construct().",
     "output_type": "error",
     "traceback": [
      "\u001b[0;31m---------------------------------------------------------------------------\u001b[0m",
      "\u001b[0;31mRuntimeError\u001b[0m                              Traceback (most recent call last)",
      "\u001b[1;32m/home/callysthenes/reinforcement_learning/integer_optimization_pyomo_restaurant.ipynb Cell 30\u001b[0m in \u001b[0;36m3\n\u001b[1;32m      <a href='vscode-notebook-cell://wsl%2Bkali-linux/home/callysthenes/reinforcement_learning/integer_optimization_pyomo_restaurant.ipynb#Y110sdnNjb2RlLXJlbW90ZQ%3D%3D?line=0'>1</a>\u001b[0m \u001b[39m#use  using AbstractModel.create_instance() or AbstractScalarVar.construct() to create a concrete instance of the model\u001b[39;00m\n\u001b[1;32m      <a href='vscode-notebook-cell://wsl%2Bkali-linux/home/callysthenes/reinforcement_learning/integer_optimization_pyomo_restaurant.ipynb#Y110sdnNjb2RlLXJlbW90ZQ%3D%3D?line=1'>2</a>\u001b[0m opt \u001b[39m=\u001b[39m SolverFactory(\u001b[39m'\u001b[39m\u001b[39mglpk\u001b[39m\u001b[39m'\u001b[39m) \u001b[39m#select solver\u001b[39;00m\n\u001b[0;32m----> <a href='vscode-notebook-cell://wsl%2Bkali-linux/home/callysthenes/reinforcement_learning/integer_optimization_pyomo_restaurant.ipynb#Y110sdnNjb2RlLXJlbW90ZQ%3D%3D?line=2'>3</a>\u001b[0m results \u001b[39m=\u001b[39m opt\u001b[39m.\u001b[39;49msolve(instance) \u001b[39m#solve the problem\u001b[39;00m\n\u001b[1;32m      <a href='vscode-notebook-cell://wsl%2Bkali-linux/home/callysthenes/reinforcement_learning/integer_optimization_pyomo_restaurant.ipynb#Y110sdnNjb2RlLXJlbW90ZQ%3D%3D?line=3'>4</a>\u001b[0m instance\u001b[39m.\u001b[39mdisplay() \u001b[39m#display the results\u001b[39;00m\n",
      "File \u001b[0;32m~/.local/lib/python3.11/site-packages/pyomo/opt/base/solvers.py:597\u001b[0m, in \u001b[0;36mOptSolver.solve\u001b[0;34m(self, *args, **kwds)\u001b[0m\n\u001b[1;32m    593\u001b[0m \u001b[39mtry\u001b[39;00m:\n\u001b[1;32m    594\u001b[0m     \u001b[39m# we're good to go.\u001b[39;00m\n\u001b[1;32m    595\u001b[0m     initial_time \u001b[39m=\u001b[39m time\u001b[39m.\u001b[39mtime()\n\u001b[0;32m--> 597\u001b[0m     \u001b[39mself\u001b[39;49m\u001b[39m.\u001b[39;49m_presolve(\u001b[39m*\u001b[39;49margs, \u001b[39m*\u001b[39;49m\u001b[39m*\u001b[39;49mkwds)\n\u001b[1;32m    599\u001b[0m     presolve_completion_time \u001b[39m=\u001b[39m time\u001b[39m.\u001b[39mtime()\n\u001b[1;32m    600\u001b[0m     \u001b[39mif\u001b[39;00m \u001b[39mself\u001b[39m\u001b[39m.\u001b[39m_report_timing:\n",
      "File \u001b[0;32m~/.local/lib/python3.11/site-packages/pyomo/opt/solver/shellcmd.py:224\u001b[0m, in \u001b[0;36mSystemCallSolver._presolve\u001b[0;34m(self, *args, **kwds)\u001b[0m\n\u001b[1;32m    221\u001b[0m \u001b[39mself\u001b[39m\u001b[39m.\u001b[39m_keepfiles \u001b[39m=\u001b[39m kwds\u001b[39m.\u001b[39mpop(\u001b[39m\"\u001b[39m\u001b[39mkeepfiles\u001b[39m\u001b[39m\"\u001b[39m, \u001b[39mFalse\u001b[39;00m)\n\u001b[1;32m    222\u001b[0m \u001b[39mself\u001b[39m\u001b[39m.\u001b[39m_define_signal_handlers \u001b[39m=\u001b[39m kwds\u001b[39m.\u001b[39mpop(\u001b[39m'\u001b[39m\u001b[39muse_signal_handling\u001b[39m\u001b[39m'\u001b[39m, \u001b[39mNone\u001b[39;00m)\n\u001b[0;32m--> 224\u001b[0m OptSolver\u001b[39m.\u001b[39;49m_presolve(\u001b[39mself\u001b[39;49m, \u001b[39m*\u001b[39;49margs, \u001b[39m*\u001b[39;49m\u001b[39m*\u001b[39;49mkwds)\n\u001b[1;32m    226\u001b[0m \u001b[39m#\u001b[39;00m\n\u001b[1;32m    227\u001b[0m \u001b[39m# Verify that the input problems exists\u001b[39;00m\n\u001b[1;32m    228\u001b[0m \u001b[39m#\u001b[39;00m\n\u001b[1;32m    229\u001b[0m \u001b[39mfor\u001b[39;00m filename \u001b[39min\u001b[39;00m \u001b[39mself\u001b[39m\u001b[39m.\u001b[39m_problem_files:\n",
      "File \u001b[0;32m~/.local/lib/python3.11/site-packages/pyomo/opt/base/solvers.py:706\u001b[0m, in \u001b[0;36mOptSolver._presolve\u001b[0;34m(self, *args, **kwds)\u001b[0m\n\u001b[1;32m    700\u001b[0m \u001b[39mif\u001b[39;00m \u001b[39mself\u001b[39m\u001b[39m.\u001b[39m_problem_format:\n\u001b[1;32m    701\u001b[0m     write_start_time \u001b[39m=\u001b[39m time\u001b[39m.\u001b[39mtime()\n\u001b[1;32m    702\u001b[0m     (\n\u001b[1;32m    703\u001b[0m         \u001b[39mself\u001b[39m\u001b[39m.\u001b[39m_problem_files,\n\u001b[1;32m    704\u001b[0m         \u001b[39mself\u001b[39m\u001b[39m.\u001b[39m_problem_format,\n\u001b[1;32m    705\u001b[0m         \u001b[39mself\u001b[39m\u001b[39m.\u001b[39m_smap_id,\n\u001b[0;32m--> 706\u001b[0m     ) \u001b[39m=\u001b[39m \u001b[39mself\u001b[39;49m\u001b[39m.\u001b[39;49m_convert_problem(\n\u001b[1;32m    707\u001b[0m         args, \u001b[39mself\u001b[39;49m\u001b[39m.\u001b[39;49m_problem_format, \u001b[39mself\u001b[39;49m\u001b[39m.\u001b[39;49m_valid_problem_formats, \u001b[39m*\u001b[39;49m\u001b[39m*\u001b[39;49mkwds\n\u001b[1;32m    708\u001b[0m     )\n\u001b[1;32m    709\u001b[0m     total_time \u001b[39m=\u001b[39m time\u001b[39m.\u001b[39mtime() \u001b[39m-\u001b[39m write_start_time\n\u001b[1;32m    710\u001b[0m     \u001b[39mif\u001b[39;00m \u001b[39mself\u001b[39m\u001b[39m.\u001b[39m_report_timing:\n",
      "File \u001b[0;32m~/.local/lib/python3.11/site-packages/pyomo/opt/base/solvers.py:757\u001b[0m, in \u001b[0;36mOptSolver._convert_problem\u001b[0;34m(self, args, problem_format, valid_problem_formats, **kwds)\u001b[0m\n\u001b[1;32m    756\u001b[0m \u001b[39mdef\u001b[39;00m \u001b[39m_convert_problem\u001b[39m(\u001b[39mself\u001b[39m, args, problem_format, valid_problem_formats, \u001b[39m*\u001b[39m\u001b[39m*\u001b[39mkwds):\n\u001b[0;32m--> 757\u001b[0m     \u001b[39mreturn\u001b[39;00m convert_problem(\n\u001b[1;32m    758\u001b[0m         args, problem_format, valid_problem_formats, \u001b[39mself\u001b[39;49m\u001b[39m.\u001b[39;49mhas_capability, \u001b[39m*\u001b[39;49m\u001b[39m*\u001b[39;49mkwds\n\u001b[1;32m    759\u001b[0m     )\n",
      "File \u001b[0;32m~/.local/lib/python3.11/site-packages/pyomo/opt/base/convert.py:99\u001b[0m, in \u001b[0;36mconvert_problem\u001b[0;34m(args, target_problem_type, valid_problem_types, has_capability, **kwds)\u001b[0m\n\u001b[1;32m     97\u001b[0m                 tmpkw \u001b[39m=\u001b[39m kwds\n\u001b[1;32m     98\u001b[0m                 tmpkw[\u001b[39m'\u001b[39m\u001b[39mcapabilities\u001b[39m\u001b[39m'\u001b[39m] \u001b[39m=\u001b[39m has_capability\n\u001b[0;32m---> 99\u001b[0m                 problem_files, symbol_map \u001b[39m=\u001b[39m converter\u001b[39m.\u001b[39;49mapply(\u001b[39m*\u001b[39;49mtmp, \u001b[39m*\u001b[39;49m\u001b[39m*\u001b[39;49mtmpkw)\n\u001b[1;32m    100\u001b[0m                 \u001b[39mreturn\u001b[39;00m problem_files, ptype, symbol_map\n\u001b[1;32m    102\u001b[0m msg \u001b[39m=\u001b[39m \u001b[39m'\u001b[39m\u001b[39mNo conversion possible.  Source problem type: \u001b[39m\u001b[39m%s\u001b[39;00m\u001b[39m.  Valid target types: \u001b[39m\u001b[39m%s\u001b[39;00m\u001b[39m'\u001b[39m\n",
      "File \u001b[0;32m~/.local/lib/python3.11/site-packages/pyomo/solvers/plugins/converter/model.py:78\u001b[0m, in \u001b[0;36mPyomoMIPConverter.apply\u001b[0;34m(self, *args, **kwds)\u001b[0m\n\u001b[1;32m     70\u001b[0m         symbol_map_id \u001b[39m=\u001b[39m instance\u001b[39m.\u001b[39mwrite(\n\u001b[1;32m     71\u001b[0m             problem_filename,\n\u001b[1;32m     72\u001b[0m             \u001b[39mformat\u001b[39m\u001b[39m=\u001b[39mProblemFormat\u001b[39m.\u001b[39mcpxlp,\n\u001b[0;32m   (...)\u001b[0m\n\u001b[1;32m     75\u001b[0m             \u001b[39m*\u001b[39m\u001b[39m*\u001b[39mio_options\n\u001b[1;32m     76\u001b[0m         )\n\u001b[1;32m     77\u001b[0m     \u001b[39melse\u001b[39;00m:\n\u001b[0;32m---> 78\u001b[0m         (problem_filename, symbol_map_id) \u001b[39m=\u001b[39m instance\u001b[39m.\u001b[39;49mwrite(\n\u001b[1;32m     79\u001b[0m             filename\u001b[39m=\u001b[39;49mproblem_filename,\n\u001b[1;32m     80\u001b[0m             \u001b[39mformat\u001b[39;49m\u001b[39m=\u001b[39;49mProblemFormat\u001b[39m.\u001b[39;49mcpxlp,\n\u001b[1;32m     81\u001b[0m             solver_capability\u001b[39m=\u001b[39;49mcapabilities,\n\u001b[1;32m     82\u001b[0m             io_options\u001b[39m=\u001b[39;49mio_options,\n\u001b[1;32m     83\u001b[0m         )\n\u001b[1;32m     84\u001b[0m     \u001b[39mreturn\u001b[39;00m (problem_filename,), symbol_map_id\n\u001b[1;32m     85\u001b[0m \u001b[39melse\u001b[39;00m:\n\u001b[1;32m     86\u001b[0m     \u001b[39m#\u001b[39;00m\n\u001b[1;32m     87\u001b[0m     \u001b[39m# I'm simply exposing a fatal issue with\u001b[39;00m\n\u001b[0;32m   (...)\u001b[0m\n\u001b[1;32m     90\u001b[0m     \u001b[39m# arguments that can be sent to the writer?\u001b[39;00m\n\u001b[1;32m     91\u001b[0m     \u001b[39m#\u001b[39;00m\n",
      "File \u001b[0;32m~/.local/lib/python3.11/site-packages/pyomo/core/base/block.py:1983\u001b[0m, in \u001b[0;36m_BlockData.write\u001b[0;34m(self, filename, format, solver_capability, io_options)\u001b[0m\n\u001b[1;32m   1980\u001b[0m     \u001b[39mdef\u001b[39;00m \u001b[39msolver_capability\u001b[39m(x):\n\u001b[1;32m   1981\u001b[0m         \u001b[39mreturn\u001b[39;00m \u001b[39mTrue\u001b[39;00m\n\u001b[0;32m-> 1983\u001b[0m (filename, smap) \u001b[39m=\u001b[39m problem_writer(\u001b[39mself\u001b[39;49m, filename, solver_capability, io_options)\n\u001b[1;32m   1984\u001b[0m smap_id \u001b[39m=\u001b[39m \u001b[39mid\u001b[39m(smap)\n\u001b[1;32m   1985\u001b[0m \u001b[39mif\u001b[39;00m \u001b[39mnot\u001b[39;00m \u001b[39mhasattr\u001b[39m(\u001b[39mself\u001b[39m, \u001b[39m'\u001b[39m\u001b[39msolutions\u001b[39m\u001b[39m'\u001b[39m):\n\u001b[1;32m   1986\u001b[0m     \u001b[39m# This is a bit of a hack.  The write() method was moved\u001b[39;00m\n\u001b[1;32m   1987\u001b[0m     \u001b[39m# here from PyomoModel to support the solution of arbitrary\u001b[39;00m\n\u001b[0;32m   (...)\u001b[0m\n\u001b[1;32m   1992\u001b[0m     \u001b[39m# dependency (we only need it here because we store the\u001b[39;00m\n\u001b[1;32m   1993\u001b[0m     \u001b[39m# SymbolMap returned by the writer in the solutions).\u001b[39;00m\n",
      "File \u001b[0;32m~/.local/lib/python3.11/site-packages/pyomo/repn/plugins/lp_writer.py:207\u001b[0m, in \u001b[0;36mLPWriter.__call__\u001b[0;34m(self, model, filename, solver_capability, io_options)\u001b[0m\n\u001b[1;32m    204\u001b[0m     io_options[\u001b[39m'\u001b[39m\u001b[39mallow_quadratic_constraint\u001b[39m\u001b[39m'\u001b[39m] \u001b[39m=\u001b[39m qc\n\u001b[1;32m    206\u001b[0m \u001b[39mwith\u001b[39;00m \u001b[39mopen\u001b[39m(filename, \u001b[39m'\u001b[39m\u001b[39mw\u001b[39m\u001b[39m'\u001b[39m, newline\u001b[39m=\u001b[39m\u001b[39m'\u001b[39m\u001b[39m'\u001b[39m) \u001b[39mas\u001b[39;00m FILE:\n\u001b[0;32m--> 207\u001b[0m     info \u001b[39m=\u001b[39m \u001b[39mself\u001b[39;49m\u001b[39m.\u001b[39;49mwrite(model, FILE, \u001b[39m*\u001b[39;49m\u001b[39m*\u001b[39;49mio_options)\n\u001b[1;32m    208\u001b[0m \u001b[39mreturn\u001b[39;00m filename, info\u001b[39m.\u001b[39msymbol_map\n",
      "File \u001b[0;32m~/.local/lib/python3.11/site-packages/pyomo/repn/plugins/lp_writer.py:240\u001b[0m, in \u001b[0;36mLPWriter.write\u001b[0;34m(self, model, ostream, **options)\u001b[0m\n\u001b[1;32m    236\u001b[0m \u001b[39m# Pause the GC, as the walker that generates the compiled LP\u001b[39;00m\n\u001b[1;32m    237\u001b[0m \u001b[39m# representation generates (and disposes of) a large number of\u001b[39;00m\n\u001b[1;32m    238\u001b[0m \u001b[39m# small objects.\u001b[39;00m\n\u001b[1;32m    239\u001b[0m \u001b[39mwith\u001b[39;00m PauseGC():\n\u001b[0;32m--> 240\u001b[0m     \u001b[39mreturn\u001b[39;00m _LPWriter_impl(ostream, config)\u001b[39m.\u001b[39;49mwrite(model)\n",
      "File \u001b[0;32m~/.local/lib/python3.11/site-packages/pyomo/repn/plugins/lp_writer.py:350\u001b[0m, in \u001b[0;36m_LPWriter_impl.write\u001b[0;34m(self, model)\u001b[0m\n\u001b[1;32m    345\u001b[0m obj \u001b[39m=\u001b[39m objectives[\u001b[39m0\u001b[39m]\n\u001b[1;32m    346\u001b[0m ostream\u001b[39m.\u001b[39mwrite(\n\u001b[1;32m    347\u001b[0m     (\u001b[39m\"\u001b[39m\u001b[39mmin \u001b[39m\u001b[39m\\n\u001b[39;00m\u001b[39m%s\u001b[39;00m\u001b[39m:\u001b[39m\u001b[39m\\n\u001b[39;00m\u001b[39m\"\u001b[39m \u001b[39mif\u001b[39;00m obj\u001b[39m.\u001b[39msense \u001b[39m==\u001b[39m minimize \u001b[39melse\u001b[39;00m \u001b[39m\"\u001b[39m\u001b[39mmax \u001b[39m\u001b[39m\\n\u001b[39;00m\u001b[39m%s\u001b[39;00m\u001b[39m:\u001b[39m\u001b[39m\\n\u001b[39;00m\u001b[39m\"\u001b[39m)\n\u001b[1;32m    348\u001b[0m     \u001b[39m%\u001b[39m (getSymbol(obj, labeler),)\n\u001b[1;32m    349\u001b[0m )\n\u001b[0;32m--> 350\u001b[0m repn \u001b[39m=\u001b[39m objective_visitor\u001b[39m.\u001b[39;49mwalk_expression(obj\u001b[39m.\u001b[39;49mexpr)\n\u001b[1;32m    351\u001b[0m \u001b[39mif\u001b[39;00m repn\u001b[39m.\u001b[39mnonlinear \u001b[39mis\u001b[39;00m \u001b[39mnot\u001b[39;00m \u001b[39mNone\u001b[39;00m:\n\u001b[1;32m    352\u001b[0m     \u001b[39mraise\u001b[39;00m \u001b[39mValueError\u001b[39;00m(\n\u001b[1;32m    353\u001b[0m         \u001b[39mf\u001b[39m\u001b[39m\"\u001b[39m\u001b[39mModel objective (\u001b[39m\u001b[39m{\u001b[39;00mobj\u001b[39m.\u001b[39mname\u001b[39m}\u001b[39;00m\u001b[39m) contains nonlinear terms that \u001b[39m\u001b[39m\"\u001b[39m\n\u001b[1;32m    354\u001b[0m         \u001b[39m\"\u001b[39m\u001b[39mcannot be written to LP format\u001b[39m\u001b[39m\"\u001b[39m\n\u001b[1;32m    355\u001b[0m     )\n",
      "File \u001b[0;32m~/.local/lib/python3.11/site-packages/pyomo/core/expr/visitor.py:260\u001b[0m, in \u001b[0;36mStreamBasedExpressionVisitor.walk_expression\u001b[0;34m(self, expr)\u001b[0m\n\u001b[1;32m    258\u001b[0m \u001b[39m\u001b[39m\u001b[39m\"\"\"Walk an expression, calling registered callbacks.\"\"\"\u001b[39;00m\n\u001b[1;32m    259\u001b[0m \u001b[39mif\u001b[39;00m \u001b[39mself\u001b[39m\u001b[39m.\u001b[39minitializeWalker \u001b[39mis\u001b[39;00m \u001b[39mnot\u001b[39;00m \u001b[39mNone\u001b[39;00m:\n\u001b[0;32m--> 260\u001b[0m     walk, root \u001b[39m=\u001b[39m \u001b[39mself\u001b[39;49m\u001b[39m.\u001b[39;49minitializeWalker(expr)\n\u001b[1;32m    261\u001b[0m     \u001b[39mif\u001b[39;00m \u001b[39mnot\u001b[39;00m walk:\n\u001b[1;32m    262\u001b[0m         \u001b[39mreturn\u001b[39;00m root\n",
      "File \u001b[0;32m~/.local/lib/python3.11/site-packages/pyomo/repn/linear.py:869\u001b[0m, in \u001b[0;36mLinearRepnVisitor.initializeWalker\u001b[0;34m(self, expr)\u001b[0m\n\u001b[1;32m    868\u001b[0m \u001b[39mdef\u001b[39;00m \u001b[39minitializeWalker\u001b[39m(\u001b[39mself\u001b[39m, expr):\n\u001b[0;32m--> 869\u001b[0m     walk, result \u001b[39m=\u001b[39m \u001b[39mself\u001b[39;49m\u001b[39m.\u001b[39;49mbeforeChild(\u001b[39mNone\u001b[39;49;00m, expr, \u001b[39m0\u001b[39;49m)\n\u001b[1;32m    870\u001b[0m     \u001b[39mif\u001b[39;00m \u001b[39mnot\u001b[39;00m walk:\n\u001b[1;32m    871\u001b[0m         \u001b[39mreturn\u001b[39;00m \u001b[39mFalse\u001b[39;00m, \u001b[39mself\u001b[39m\u001b[39m.\u001b[39mfinalizeResult(result)\n",
      "File \u001b[0;32m~/.local/lib/python3.11/site-packages/pyomo/repn/linear.py:875\u001b[0m, in \u001b[0;36mLinearRepnVisitor.beforeChild\u001b[0;34m(self, node, child, child_idx)\u001b[0m\n\u001b[1;32m    874\u001b[0m \u001b[39mdef\u001b[39;00m \u001b[39mbeforeChild\u001b[39m(\u001b[39mself\u001b[39m, node, child, child_idx):\n\u001b[0;32m--> 875\u001b[0m     \u001b[39mreturn\u001b[39;00m _before_child_dispatcher[child\u001b[39m.\u001b[39;49m\u001b[39m__class__\u001b[39;49m](\u001b[39mself\u001b[39;49m, child)\n",
      "File \u001b[0;32m~/.local/lib/python3.11/site-packages/pyomo/repn/linear.py:677\u001b[0m, in \u001b[0;36m_before_linear\u001b[0;34m(visitor, child)\u001b[0m\n\u001b[1;32m    675\u001b[0m _id \u001b[39m=\u001b[39m \u001b[39mid\u001b[39m(arg2)\n\u001b[1;32m    676\u001b[0m \u001b[39mif\u001b[39;00m _id \u001b[39mnot\u001b[39;00m \u001b[39min\u001b[39;00m var_map:\n\u001b[0;32m--> 677\u001b[0m     \u001b[39mif\u001b[39;00m arg2\u001b[39m.\u001b[39;49mfixed:\n\u001b[1;32m    678\u001b[0m         const \u001b[39m+\u001b[39m\u001b[39m=\u001b[39m arg1 \u001b[39m*\u001b[39m visitor\u001b[39m.\u001b[39m_eval_expr(arg2)\n\u001b[1;32m    679\u001b[0m         \u001b[39mcontinue\u001b[39;00m\n",
      "File \u001b[0;32m<string>:2\u001b[0m, in \u001b[0;36mfixed\u001b[0;34m(self)\u001b[0m\n",
      "\u001b[0;31mRuntimeError\u001b[0m: Cannot access property 'fixed' on AbstractScalarVar 'AbstractScalarVar' before it has been constructed (initialized): 'fixed' is an attribute on an Abstract component and cannot be accessed until the component has been fully constructed (converted to a Concrete component) using AbstractModel.create_instance() or AbstractScalarVar.construct()."
     ]
    }
   ],
   "source": [
    "#use  using AbstractModel.create_instance() or AbstractScalarVar.construct() to create a concrete instance of the model\n",
    "opt = SolverFactory('glpk') #select solver\n",
    "results = opt.solve(instance) #solve the problem\n",
    "instance.display() #display the results"
   ]
  },
  {
   "attachments": {},
   "cell_type": "markdown",
   "metadata": {},
   "source": [
    "## Step 5: Solve the problem"
   ]
  },
  {
   "cell_type": "code",
   "execution_count": 17,
   "metadata": {},
   "outputs": [
    {
     "ename": "RuntimeError",
     "evalue": "Cannot access property 'fixed' on AbstractScalarVar 'AbstractScalarVar' before it has been constructed (initialized): 'fixed' is an attribute on an Abstract component and cannot be accessed until the component has been fully constructed (converted to a Concrete component) using AbstractModel.create_instance() or AbstractScalarVar.construct().",
     "output_type": "error",
     "traceback": [
      "\u001b[0;31m---------------------------------------------------------------------------\u001b[0m",
      "\u001b[0;31mRuntimeError\u001b[0m                              Traceback (most recent call last)",
      "\u001b[1;32m/home/callysthenes/reinforcement_learning/integer_optimization_pyomo_restaurant.ipynb Cell 30\u001b[0m in \u001b[0;36m3\n\u001b[1;32m      <a href='vscode-notebook-cell://wsl%2Bkali-linux/home/callysthenes/reinforcement_learning/integer_optimization_pyomo_restaurant.ipynb#X42sdnNjb2RlLXJlbW90ZQ%3D%3D?line=0'>1</a>\u001b[0m \u001b[39m# Solve the optimization problem with bounds and constraints\u001b[39;00m\n\u001b[1;32m      <a href='vscode-notebook-cell://wsl%2Bkali-linux/home/callysthenes/reinforcement_learning/integer_optimization_pyomo_restaurant.ipynb#X42sdnNjb2RlLXJlbW90ZQ%3D%3D?line=1'>2</a>\u001b[0m opt \u001b[39m=\u001b[39m SolverFactory(\u001b[39m'\u001b[39m\u001b[39mglpk\u001b[39m\u001b[39m'\u001b[39m)\n\u001b[0;32m----> <a href='vscode-notebook-cell://wsl%2Bkali-linux/home/callysthenes/reinforcement_learning/integer_optimization_pyomo_restaurant.ipynb#X42sdnNjb2RlLXJlbW90ZQ%3D%3D?line=2'>3</a>\u001b[0m results \u001b[39m=\u001b[39m opt\u001b[39m.\u001b[39;49msolve(model) \u001b[39m# solves and updates instance\u001b[39;00m\n\u001b[1;32m      <a href='vscode-notebook-cell://wsl%2Bkali-linux/home/callysthenes/reinforcement_learning/integer_optimization_pyomo_restaurant.ipynb#X42sdnNjb2RlLXJlbW90ZQ%3D%3D?line=3'>4</a>\u001b[0m model\u001b[39m.\u001b[39mpprint()\n",
      "File \u001b[0;32m~/.local/lib/python3.11/site-packages/pyomo/opt/base/solvers.py:597\u001b[0m, in \u001b[0;36mOptSolver.solve\u001b[0;34m(self, *args, **kwds)\u001b[0m\n\u001b[1;32m    593\u001b[0m \u001b[39mtry\u001b[39;00m:\n\u001b[1;32m    594\u001b[0m     \u001b[39m# we're good to go.\u001b[39;00m\n\u001b[1;32m    595\u001b[0m     initial_time \u001b[39m=\u001b[39m time\u001b[39m.\u001b[39mtime()\n\u001b[0;32m--> 597\u001b[0m     \u001b[39mself\u001b[39;49m\u001b[39m.\u001b[39;49m_presolve(\u001b[39m*\u001b[39;49margs, \u001b[39m*\u001b[39;49m\u001b[39m*\u001b[39;49mkwds)\n\u001b[1;32m    599\u001b[0m     presolve_completion_time \u001b[39m=\u001b[39m time\u001b[39m.\u001b[39mtime()\n\u001b[1;32m    600\u001b[0m     \u001b[39mif\u001b[39;00m \u001b[39mself\u001b[39m\u001b[39m.\u001b[39m_report_timing:\n",
      "File \u001b[0;32m~/.local/lib/python3.11/site-packages/pyomo/opt/solver/shellcmd.py:224\u001b[0m, in \u001b[0;36mSystemCallSolver._presolve\u001b[0;34m(self, *args, **kwds)\u001b[0m\n\u001b[1;32m    221\u001b[0m \u001b[39mself\u001b[39m\u001b[39m.\u001b[39m_keepfiles \u001b[39m=\u001b[39m kwds\u001b[39m.\u001b[39mpop(\u001b[39m\"\u001b[39m\u001b[39mkeepfiles\u001b[39m\u001b[39m\"\u001b[39m, \u001b[39mFalse\u001b[39;00m)\n\u001b[1;32m    222\u001b[0m \u001b[39mself\u001b[39m\u001b[39m.\u001b[39m_define_signal_handlers \u001b[39m=\u001b[39m kwds\u001b[39m.\u001b[39mpop(\u001b[39m'\u001b[39m\u001b[39muse_signal_handling\u001b[39m\u001b[39m'\u001b[39m, \u001b[39mNone\u001b[39;00m)\n\u001b[0;32m--> 224\u001b[0m OptSolver\u001b[39m.\u001b[39;49m_presolve(\u001b[39mself\u001b[39;49m, \u001b[39m*\u001b[39;49margs, \u001b[39m*\u001b[39;49m\u001b[39m*\u001b[39;49mkwds)\n\u001b[1;32m    226\u001b[0m \u001b[39m#\u001b[39;00m\n\u001b[1;32m    227\u001b[0m \u001b[39m# Verify that the input problems exists\u001b[39;00m\n\u001b[1;32m    228\u001b[0m \u001b[39m#\u001b[39;00m\n\u001b[1;32m    229\u001b[0m \u001b[39mfor\u001b[39;00m filename \u001b[39min\u001b[39;00m \u001b[39mself\u001b[39m\u001b[39m.\u001b[39m_problem_files:\n",
      "File \u001b[0;32m~/.local/lib/python3.11/site-packages/pyomo/opt/base/solvers.py:706\u001b[0m, in \u001b[0;36mOptSolver._presolve\u001b[0;34m(self, *args, **kwds)\u001b[0m\n\u001b[1;32m    700\u001b[0m \u001b[39mif\u001b[39;00m \u001b[39mself\u001b[39m\u001b[39m.\u001b[39m_problem_format:\n\u001b[1;32m    701\u001b[0m     write_start_time \u001b[39m=\u001b[39m time\u001b[39m.\u001b[39mtime()\n\u001b[1;32m    702\u001b[0m     (\n\u001b[1;32m    703\u001b[0m         \u001b[39mself\u001b[39m\u001b[39m.\u001b[39m_problem_files,\n\u001b[1;32m    704\u001b[0m         \u001b[39mself\u001b[39m\u001b[39m.\u001b[39m_problem_format,\n\u001b[1;32m    705\u001b[0m         \u001b[39mself\u001b[39m\u001b[39m.\u001b[39m_smap_id,\n\u001b[0;32m--> 706\u001b[0m     ) \u001b[39m=\u001b[39m \u001b[39mself\u001b[39;49m\u001b[39m.\u001b[39;49m_convert_problem(\n\u001b[1;32m    707\u001b[0m         args, \u001b[39mself\u001b[39;49m\u001b[39m.\u001b[39;49m_problem_format, \u001b[39mself\u001b[39;49m\u001b[39m.\u001b[39;49m_valid_problem_formats, \u001b[39m*\u001b[39;49m\u001b[39m*\u001b[39;49mkwds\n\u001b[1;32m    708\u001b[0m     )\n\u001b[1;32m    709\u001b[0m     total_time \u001b[39m=\u001b[39m time\u001b[39m.\u001b[39mtime() \u001b[39m-\u001b[39m write_start_time\n\u001b[1;32m    710\u001b[0m     \u001b[39mif\u001b[39;00m \u001b[39mself\u001b[39m\u001b[39m.\u001b[39m_report_timing:\n",
      "File \u001b[0;32m~/.local/lib/python3.11/site-packages/pyomo/opt/base/solvers.py:757\u001b[0m, in \u001b[0;36mOptSolver._convert_problem\u001b[0;34m(self, args, problem_format, valid_problem_formats, **kwds)\u001b[0m\n\u001b[1;32m    756\u001b[0m \u001b[39mdef\u001b[39;00m \u001b[39m_convert_problem\u001b[39m(\u001b[39mself\u001b[39m, args, problem_format, valid_problem_formats, \u001b[39m*\u001b[39m\u001b[39m*\u001b[39mkwds):\n\u001b[0;32m--> 757\u001b[0m     \u001b[39mreturn\u001b[39;00m convert_problem(\n\u001b[1;32m    758\u001b[0m         args, problem_format, valid_problem_formats, \u001b[39mself\u001b[39;49m\u001b[39m.\u001b[39;49mhas_capability, \u001b[39m*\u001b[39;49m\u001b[39m*\u001b[39;49mkwds\n\u001b[1;32m    759\u001b[0m     )\n",
      "File \u001b[0;32m~/.local/lib/python3.11/site-packages/pyomo/opt/base/convert.py:99\u001b[0m, in \u001b[0;36mconvert_problem\u001b[0;34m(args, target_problem_type, valid_problem_types, has_capability, **kwds)\u001b[0m\n\u001b[1;32m     97\u001b[0m                 tmpkw \u001b[39m=\u001b[39m kwds\n\u001b[1;32m     98\u001b[0m                 tmpkw[\u001b[39m'\u001b[39m\u001b[39mcapabilities\u001b[39m\u001b[39m'\u001b[39m] \u001b[39m=\u001b[39m has_capability\n\u001b[0;32m---> 99\u001b[0m                 problem_files, symbol_map \u001b[39m=\u001b[39m converter\u001b[39m.\u001b[39;49mapply(\u001b[39m*\u001b[39;49mtmp, \u001b[39m*\u001b[39;49m\u001b[39m*\u001b[39;49mtmpkw)\n\u001b[1;32m    100\u001b[0m                 \u001b[39mreturn\u001b[39;00m problem_files, ptype, symbol_map\n\u001b[1;32m    102\u001b[0m msg \u001b[39m=\u001b[39m \u001b[39m'\u001b[39m\u001b[39mNo conversion possible.  Source problem type: \u001b[39m\u001b[39m%s\u001b[39;00m\u001b[39m.  Valid target types: \u001b[39m\u001b[39m%s\u001b[39;00m\u001b[39m'\u001b[39m\n",
      "File \u001b[0;32m~/.local/lib/python3.11/site-packages/pyomo/solvers/plugins/converter/model.py:78\u001b[0m, in \u001b[0;36mPyomoMIPConverter.apply\u001b[0;34m(self, *args, **kwds)\u001b[0m\n\u001b[1;32m     70\u001b[0m         symbol_map_id \u001b[39m=\u001b[39m instance\u001b[39m.\u001b[39mwrite(\n\u001b[1;32m     71\u001b[0m             problem_filename,\n\u001b[1;32m     72\u001b[0m             \u001b[39mformat\u001b[39m\u001b[39m=\u001b[39mProblemFormat\u001b[39m.\u001b[39mcpxlp,\n\u001b[0;32m   (...)\u001b[0m\n\u001b[1;32m     75\u001b[0m             \u001b[39m*\u001b[39m\u001b[39m*\u001b[39mio_options\n\u001b[1;32m     76\u001b[0m         )\n\u001b[1;32m     77\u001b[0m     \u001b[39melse\u001b[39;00m:\n\u001b[0;32m---> 78\u001b[0m         (problem_filename, symbol_map_id) \u001b[39m=\u001b[39m instance\u001b[39m.\u001b[39;49mwrite(\n\u001b[1;32m     79\u001b[0m             filename\u001b[39m=\u001b[39;49mproblem_filename,\n\u001b[1;32m     80\u001b[0m             \u001b[39mformat\u001b[39;49m\u001b[39m=\u001b[39;49mProblemFormat\u001b[39m.\u001b[39;49mcpxlp,\n\u001b[1;32m     81\u001b[0m             solver_capability\u001b[39m=\u001b[39;49mcapabilities,\n\u001b[1;32m     82\u001b[0m             io_options\u001b[39m=\u001b[39;49mio_options,\n\u001b[1;32m     83\u001b[0m         )\n\u001b[1;32m     84\u001b[0m     \u001b[39mreturn\u001b[39;00m (problem_filename,), symbol_map_id\n\u001b[1;32m     85\u001b[0m \u001b[39melse\u001b[39;00m:\n\u001b[1;32m     86\u001b[0m     \u001b[39m#\u001b[39;00m\n\u001b[1;32m     87\u001b[0m     \u001b[39m# I'm simply exposing a fatal issue with\u001b[39;00m\n\u001b[0;32m   (...)\u001b[0m\n\u001b[1;32m     90\u001b[0m     \u001b[39m# arguments that can be sent to the writer?\u001b[39;00m\n\u001b[1;32m     91\u001b[0m     \u001b[39m#\u001b[39;00m\n",
      "File \u001b[0;32m~/.local/lib/python3.11/site-packages/pyomo/core/base/block.py:1983\u001b[0m, in \u001b[0;36m_BlockData.write\u001b[0;34m(self, filename, format, solver_capability, io_options)\u001b[0m\n\u001b[1;32m   1980\u001b[0m     \u001b[39mdef\u001b[39;00m \u001b[39msolver_capability\u001b[39m(x):\n\u001b[1;32m   1981\u001b[0m         \u001b[39mreturn\u001b[39;00m \u001b[39mTrue\u001b[39;00m\n\u001b[0;32m-> 1983\u001b[0m (filename, smap) \u001b[39m=\u001b[39m problem_writer(\u001b[39mself\u001b[39;49m, filename, solver_capability, io_options)\n\u001b[1;32m   1984\u001b[0m smap_id \u001b[39m=\u001b[39m \u001b[39mid\u001b[39m(smap)\n\u001b[1;32m   1985\u001b[0m \u001b[39mif\u001b[39;00m \u001b[39mnot\u001b[39;00m \u001b[39mhasattr\u001b[39m(\u001b[39mself\u001b[39m, \u001b[39m'\u001b[39m\u001b[39msolutions\u001b[39m\u001b[39m'\u001b[39m):\n\u001b[1;32m   1986\u001b[0m     \u001b[39m# This is a bit of a hack.  The write() method was moved\u001b[39;00m\n\u001b[1;32m   1987\u001b[0m     \u001b[39m# here from PyomoModel to support the solution of arbitrary\u001b[39;00m\n\u001b[0;32m   (...)\u001b[0m\n\u001b[1;32m   1992\u001b[0m     \u001b[39m# dependency (we only need it here because we store the\u001b[39;00m\n\u001b[1;32m   1993\u001b[0m     \u001b[39m# SymbolMap returned by the writer in the solutions).\u001b[39;00m\n",
      "File \u001b[0;32m~/.local/lib/python3.11/site-packages/pyomo/repn/plugins/lp_writer.py:207\u001b[0m, in \u001b[0;36mLPWriter.__call__\u001b[0;34m(self, model, filename, solver_capability, io_options)\u001b[0m\n\u001b[1;32m    204\u001b[0m     io_options[\u001b[39m'\u001b[39m\u001b[39mallow_quadratic_constraint\u001b[39m\u001b[39m'\u001b[39m] \u001b[39m=\u001b[39m qc\n\u001b[1;32m    206\u001b[0m \u001b[39mwith\u001b[39;00m \u001b[39mopen\u001b[39m(filename, \u001b[39m'\u001b[39m\u001b[39mw\u001b[39m\u001b[39m'\u001b[39m, newline\u001b[39m=\u001b[39m\u001b[39m'\u001b[39m\u001b[39m'\u001b[39m) \u001b[39mas\u001b[39;00m FILE:\n\u001b[0;32m--> 207\u001b[0m     info \u001b[39m=\u001b[39m \u001b[39mself\u001b[39;49m\u001b[39m.\u001b[39;49mwrite(model, FILE, \u001b[39m*\u001b[39;49m\u001b[39m*\u001b[39;49mio_options)\n\u001b[1;32m    208\u001b[0m \u001b[39mreturn\u001b[39;00m filename, info\u001b[39m.\u001b[39msymbol_map\n",
      "File \u001b[0;32m~/.local/lib/python3.11/site-packages/pyomo/repn/plugins/lp_writer.py:240\u001b[0m, in \u001b[0;36mLPWriter.write\u001b[0;34m(self, model, ostream, **options)\u001b[0m\n\u001b[1;32m    236\u001b[0m \u001b[39m# Pause the GC, as the walker that generates the compiled LP\u001b[39;00m\n\u001b[1;32m    237\u001b[0m \u001b[39m# representation generates (and disposes of) a large number of\u001b[39;00m\n\u001b[1;32m    238\u001b[0m \u001b[39m# small objects.\u001b[39;00m\n\u001b[1;32m    239\u001b[0m \u001b[39mwith\u001b[39;00m PauseGC():\n\u001b[0;32m--> 240\u001b[0m     \u001b[39mreturn\u001b[39;00m _LPWriter_impl(ostream, config)\u001b[39m.\u001b[39;49mwrite(model)\n",
      "File \u001b[0;32m~/.local/lib/python3.11/site-packages/pyomo/repn/plugins/lp_writer.py:350\u001b[0m, in \u001b[0;36m_LPWriter_impl.write\u001b[0;34m(self, model)\u001b[0m\n\u001b[1;32m    345\u001b[0m obj \u001b[39m=\u001b[39m objectives[\u001b[39m0\u001b[39m]\n\u001b[1;32m    346\u001b[0m ostream\u001b[39m.\u001b[39mwrite(\n\u001b[1;32m    347\u001b[0m     (\u001b[39m\"\u001b[39m\u001b[39mmin \u001b[39m\u001b[39m\\n\u001b[39;00m\u001b[39m%s\u001b[39;00m\u001b[39m:\u001b[39m\u001b[39m\\n\u001b[39;00m\u001b[39m\"\u001b[39m \u001b[39mif\u001b[39;00m obj\u001b[39m.\u001b[39msense \u001b[39m==\u001b[39m minimize \u001b[39melse\u001b[39;00m \u001b[39m\"\u001b[39m\u001b[39mmax \u001b[39m\u001b[39m\\n\u001b[39;00m\u001b[39m%s\u001b[39;00m\u001b[39m:\u001b[39m\u001b[39m\\n\u001b[39;00m\u001b[39m\"\u001b[39m)\n\u001b[1;32m    348\u001b[0m     \u001b[39m%\u001b[39m (getSymbol(obj, labeler),)\n\u001b[1;32m    349\u001b[0m )\n\u001b[0;32m--> 350\u001b[0m repn \u001b[39m=\u001b[39m objective_visitor\u001b[39m.\u001b[39;49mwalk_expression(obj\u001b[39m.\u001b[39;49mexpr)\n\u001b[1;32m    351\u001b[0m \u001b[39mif\u001b[39;00m repn\u001b[39m.\u001b[39mnonlinear \u001b[39mis\u001b[39;00m \u001b[39mnot\u001b[39;00m \u001b[39mNone\u001b[39;00m:\n\u001b[1;32m    352\u001b[0m     \u001b[39mraise\u001b[39;00m \u001b[39mValueError\u001b[39;00m(\n\u001b[1;32m    353\u001b[0m         \u001b[39mf\u001b[39m\u001b[39m\"\u001b[39m\u001b[39mModel objective (\u001b[39m\u001b[39m{\u001b[39;00mobj\u001b[39m.\u001b[39mname\u001b[39m}\u001b[39;00m\u001b[39m) contains nonlinear terms that \u001b[39m\u001b[39m\"\u001b[39m\n\u001b[1;32m    354\u001b[0m         \u001b[39m\"\u001b[39m\u001b[39mcannot be written to LP format\u001b[39m\u001b[39m\"\u001b[39m\n\u001b[1;32m    355\u001b[0m     )\n",
      "File \u001b[0;32m~/.local/lib/python3.11/site-packages/pyomo/core/expr/visitor.py:260\u001b[0m, in \u001b[0;36mStreamBasedExpressionVisitor.walk_expression\u001b[0;34m(self, expr)\u001b[0m\n\u001b[1;32m    258\u001b[0m \u001b[39m\u001b[39m\u001b[39m\"\"\"Walk an expression, calling registered callbacks.\"\"\"\u001b[39;00m\n\u001b[1;32m    259\u001b[0m \u001b[39mif\u001b[39;00m \u001b[39mself\u001b[39m\u001b[39m.\u001b[39minitializeWalker \u001b[39mis\u001b[39;00m \u001b[39mnot\u001b[39;00m \u001b[39mNone\u001b[39;00m:\n\u001b[0;32m--> 260\u001b[0m     walk, root \u001b[39m=\u001b[39m \u001b[39mself\u001b[39;49m\u001b[39m.\u001b[39;49minitializeWalker(expr)\n\u001b[1;32m    261\u001b[0m     \u001b[39mif\u001b[39;00m \u001b[39mnot\u001b[39;00m walk:\n\u001b[1;32m    262\u001b[0m         \u001b[39mreturn\u001b[39;00m root\n",
      "File \u001b[0;32m~/.local/lib/python3.11/site-packages/pyomo/repn/linear.py:869\u001b[0m, in \u001b[0;36mLinearRepnVisitor.initializeWalker\u001b[0;34m(self, expr)\u001b[0m\n\u001b[1;32m    868\u001b[0m \u001b[39mdef\u001b[39;00m \u001b[39minitializeWalker\u001b[39m(\u001b[39mself\u001b[39m, expr):\n\u001b[0;32m--> 869\u001b[0m     walk, result \u001b[39m=\u001b[39m \u001b[39mself\u001b[39;49m\u001b[39m.\u001b[39;49mbeforeChild(\u001b[39mNone\u001b[39;49;00m, expr, \u001b[39m0\u001b[39;49m)\n\u001b[1;32m    870\u001b[0m     \u001b[39mif\u001b[39;00m \u001b[39mnot\u001b[39;00m walk:\n\u001b[1;32m    871\u001b[0m         \u001b[39mreturn\u001b[39;00m \u001b[39mFalse\u001b[39;00m, \u001b[39mself\u001b[39m\u001b[39m.\u001b[39mfinalizeResult(result)\n",
      "File \u001b[0;32m~/.local/lib/python3.11/site-packages/pyomo/repn/linear.py:875\u001b[0m, in \u001b[0;36mLinearRepnVisitor.beforeChild\u001b[0;34m(self, node, child, child_idx)\u001b[0m\n\u001b[1;32m    874\u001b[0m \u001b[39mdef\u001b[39;00m \u001b[39mbeforeChild\u001b[39m(\u001b[39mself\u001b[39m, node, child, child_idx):\n\u001b[0;32m--> 875\u001b[0m     \u001b[39mreturn\u001b[39;00m _before_child_dispatcher[child\u001b[39m.\u001b[39;49m\u001b[39m__class__\u001b[39;49m](\u001b[39mself\u001b[39;49m, child)\n",
      "File \u001b[0;32m~/.local/lib/python3.11/site-packages/pyomo/repn/linear.py:677\u001b[0m, in \u001b[0;36m_before_linear\u001b[0;34m(visitor, child)\u001b[0m\n\u001b[1;32m    675\u001b[0m _id \u001b[39m=\u001b[39m \u001b[39mid\u001b[39m(arg2)\n\u001b[1;32m    676\u001b[0m \u001b[39mif\u001b[39;00m _id \u001b[39mnot\u001b[39;00m \u001b[39min\u001b[39;00m var_map:\n\u001b[0;32m--> 677\u001b[0m     \u001b[39mif\u001b[39;00m arg2\u001b[39m.\u001b[39;49mfixed:\n\u001b[1;32m    678\u001b[0m         const \u001b[39m+\u001b[39m\u001b[39m=\u001b[39m arg1 \u001b[39m*\u001b[39m visitor\u001b[39m.\u001b[39m_eval_expr(arg2)\n\u001b[1;32m    679\u001b[0m         \u001b[39mcontinue\u001b[39;00m\n",
      "File \u001b[0;32m<string>:2\u001b[0m, in \u001b[0;36mfixed\u001b[0;34m(self)\u001b[0m\n",
      "\u001b[0;31mRuntimeError\u001b[0m: Cannot access property 'fixed' on AbstractScalarVar 'AbstractScalarVar' before it has been constructed (initialized): 'fixed' is an attribute on an Abstract component and cannot be accessed until the component has been fully constructed (converted to a Concrete component) using AbstractModel.create_instance() or AbstractScalarVar.construct()."
     ]
    }
   ],
   "source": [
    "# Solve the optimization problem with bounds and constraints\n",
    "opt = SolverFactory('glpk')\n",
    "results = opt.solve(model) # solves and updates instance\n",
    "model.pprint()"
   ]
  },
  {
   "attachments": {},
   "cell_type": "markdown",
   "metadata": {},
   "source": []
  },
  {
   "attachments": {},
   "cell_type": "markdown",
   "metadata": {},
   "source": [
    "## Step 6: Solution"
   ]
  },
  {
   "cell_type": "code",
   "execution_count": null,
   "metadata": {},
   "outputs": [],
   "source": [
    "# Print the results of the optimization problem\n",
    "print('x1 = ', pyo.value(model.x1))\n",
    "print('x2 = ', pyo.value(model.x2))\n",
    "print('x3 = ', pyo.value(model.x3))\n",
    "print('Objective = ', pyo.value(model.obj))\n",
    " \n",
    "   "
   ]
  },
  {
   "cell_type": "code",
   "execution_count": null,
   "metadata": {},
   "outputs": [],
   "source": [
    "results.write()\n"
   ]
  },
  {
   "cell_type": "code",
   "execution_count": null,
   "metadata": {},
   "outputs": [],
   "source": []
  }
 ],
 "metadata": {
  "kernelspec": {
   "display_name": "Python 3",
   "language": "python",
   "name": "python3"
  },
  "language_info": {
   "codemirror_mode": {
    "name": "ipython",
    "version": 3
   },
   "file_extension": ".py",
   "mimetype": "text/x-python",
   "name": "python",
   "nbconvert_exporter": "python",
   "pygments_lexer": "ipython3",
   "version": "3.11.2"
  },
  "orig_nbformat": 4
 },
 "nbformat": 4,
 "nbformat_minor": 2
}
