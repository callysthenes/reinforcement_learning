{
  "nbformat": 4,
  "nbformat_minor": 0,
  "metadata": {
    "colab": {
      "provenance": [],
      "include_colab_link": true
    },
    "kernelspec": {
      "name": "python3",
      "display_name": "Python 3"
    },
    "language_info": {
      "name": "python"
    }
  },
  "cells": [
    {
      "cell_type": "markdown",
      "metadata": {
        "id": "view-in-github",
        "colab_type": "text"
      },
      "source": [
        "<a href=\"https://colab.research.google.com/github/callysthenes/reinforcement_learning/blob/main/constrained_optimization.ipynb\" target=\"_parent\"><img src=\"https://colab.research.google.com/assets/colab-badge.svg\" alt=\"Open In Colab\"/></a>"
      ]
    },
    {
      "cell_type": "code",
      "execution_count": null,
      "metadata": {
        "id": "mvtxcyrttGhZ"
      },
      "outputs": [],
      "source": [
        "import numpy as np\n",
        "from scipy.optimize import minimize"
      ]
    },
    {
      "cell_type": "code",
      "source": [
        "# Define the objective function\n",
        "def objective(x):\n",
        "    # note we are gonna minimize the objective function, but we wanna maximize revenue\n",
        "    return -(10*x[0] + 20*x[1] + 30*x[2])"
      ],
      "metadata": {
        "id": "xGCHaO6btPG2"
      },
      "execution_count": null,
      "outputs": []
    },
    {
      "cell_type": "code",
      "source": [
        "# Define the constraint functions: \n",
        "\n",
        "# From scipy documentation:\n",
        "\n",
        "# Equality constraint means that the constraint function result is to be zero \n",
        "# whereas inequality means that it is to be non-negative (>=0)\n",
        "\n",
        "def capacity_constraint(x):\n",
        "    # inequality\n",
        "    return 25 - 2*x[0] - 3*x[1] - 4*x[2]\n",
        "\n",
        "def demand_constraint(x):\n",
        "    # equality\n",
        "    return x[0] + x[1] + x[2] - 10\n",
        "\n",
        "# Define the constraints\n",
        "cons = ({'type': 'ineq', 'fun': capacity_constraint},\n",
        "        {'type': 'eq', 'fun': demand_constraint})"
      ],
      "metadata": {
        "id": "0oST_kvktSxH"
      },
      "execution_count": null,
      "outputs": []
    },
    {
      "cell_type": "code",
      "source": [
        "# Define the initial guess\n",
        "x0 = np.array([1, 1, 1])"
      ],
      "metadata": {
        "id": "aP6K0t0rtXbb"
      },
      "execution_count": null,
      "outputs": []
    },
    {
      "cell_type": "code",
      "source": [
        "# Define the bounds for the variables\n",
        "bounds = ((0, None), (0, None), (0, None))"
      ],
      "metadata": {
        "id": "VeJN9-ymtZ7Z"
      },
      "execution_count": null,
      "outputs": []
    },
    {
      "cell_type": "markdown",
      "source": [
        "# Solve with SLSQP (Sequential Least Squares Programming )"
      ],
      "metadata": {
        "id": "U8tXNGINw3_p"
      }
    },
    {
      "cell_type": "code",
      "source": [
        "# Solve the optimization problem\n",
        "result = minimize(objective, x0, method='SLSQP', bounds=bounds, constraints=cons)\n",
        "\n",
        "# Print the results\n",
        "print('Optimal solution:', result.x)\n",
        "print('Optimal objective value:', -result.fun)"
      ],
      "metadata": {
        "colab": {
          "base_uri": "https://localhost:8080/"
        },
        "id": "UuWcK7dHtbtb",
        "outputId": "304424d5-a235-471a-8377-8f232706b6fd"
      },
      "execution_count": null,
      "outputs": [
        {
          "output_type": "stream",
          "name": "stdout",
          "text": [
            "Optimal solution: [5.83333333 3.33333333 0.83333333]\n",
            "Optimal objective value: 149.9999999999895\n"
          ]
        }
      ]
    },
    {
      "cell_type": "code",
      "source": [
        "x = result.x\n",
        "-objective(x), capacity_constraint(x), demand_constraint(x)"
      ],
      "metadata": {
        "colab": {
          "base_uri": "https://localhost:8080/"
        },
        "id": "EcJlfeE5waTG",
        "outputId": "45217118-4395-48ae-f235-e6dc9acc4e7e"
      },
      "execution_count": null,
      "outputs": [
        {
          "output_type": "execute_result",
          "data": {
            "text/plain": [
              "(149.9999999999895, 1.0480505352461478e-12, 0.0)"
            ]
          },
          "metadata": {},
          "execution_count": 7
        }
      ]
    },
    {
      "cell_type": "code",
      "source": [
        "result.message, result.status, result.success, result.nfev, result.nit"
      ],
      "metadata": {
        "colab": {
          "base_uri": "https://localhost:8080/"
        },
        "id": "mliyzvrr2yV3",
        "outputId": "2f88ca48-29d9-4fc1-f4dd-f8c603897f38"
      },
      "execution_count": null,
      "outputs": [
        {
          "output_type": "execute_result",
          "data": {
            "text/plain": [
              "('Optimization terminated successfully', 0, True, 8, 2)"
            ]
          },
          "metadata": {},
          "execution_count": 8
        }
      ]
    },
    {
      "cell_type": "markdown",
      "source": [
        "Note the constraints can be slightly negative, this is expected with numerical solvers"
      ],
      "metadata": {
        "id": "P0-7H3P30nMn"
      }
    },
    {
      "cell_type": "markdown",
      "source": [
        "## Are there better solutions?"
      ],
      "metadata": {
        "id": "tQPHlFhY0u8d"
      }
    },
    {
      "cell_type": "code",
      "source": [
        "x = [10, 0, 0]\n",
        "-objective(x), capacity_constraint(x), demand_constraint(x)"
      ],
      "metadata": {
        "colab": {
          "base_uri": "https://localhost:8080/"
        },
        "id": "0_hQNZKPvVTJ",
        "outputId": "f4fbfa44-269b-4538-8403-7f4db7a66ce3"
      },
      "execution_count": null,
      "outputs": [
        {
          "output_type": "execute_result",
          "data": {
            "text/plain": [
              "(100, 5, 0)"
            ]
          },
          "metadata": {},
          "execution_count": 9
        }
      ]
    },
    {
      "cell_type": "code",
      "source": [
        "x = [8, 1, 1]\n",
        "-objective(x), capacity_constraint(x), demand_constraint(x)"
      ],
      "metadata": {
        "colab": {
          "base_uri": "https://localhost:8080/"
        },
        "id": "WIQbkDFOvbrb",
        "outputId": "778ae814-69bd-4d05-ab45-504db780b578"
      },
      "execution_count": null,
      "outputs": [
        {
          "output_type": "execute_result",
          "data": {
            "text/plain": [
              "(130, 2, 0)"
            ]
          },
          "metadata": {},
          "execution_count": 10
        }
      ]
    },
    {
      "cell_type": "code",
      "source": [
        "x = [7, 1, 2]\n",
        "-objective(x), capacity_constraint(x), demand_constraint(x)"
      ],
      "metadata": {
        "colab": {
          "base_uri": "https://localhost:8080/"
        },
        "id": "oxz8ZaCkvi6I",
        "outputId": "2752e4f6-cb37-4025-fe03-26f8a2fa6cfc"
      },
      "execution_count": null,
      "outputs": [
        {
          "output_type": "execute_result",
          "data": {
            "text/plain": [
              "(150, 0, 0)"
            ]
          },
          "metadata": {},
          "execution_count": 11
        }
      ]
    },
    {
      "cell_type": "code",
      "source": [
        "x = [6, 3, 1]\n",
        "-objective(x), capacity_constraint(x), demand_constraint(x)"
      ],
      "metadata": {
        "colab": {
          "base_uri": "https://localhost:8080/"
        },
        "id": "gYi8IGSj-kNk",
        "outputId": "1de6e8d6-cbd5-47bc-9582-087e44f803c7"
      },
      "execution_count": null,
      "outputs": [
        {
          "output_type": "execute_result",
          "data": {
            "text/plain": [
              "(150, 0, 0)"
            ]
          },
          "metadata": {},
          "execution_count": 12
        }
      ]
    },
    {
      "cell_type": "code",
      "source": [
        "x = [6, 2, 2]\n",
        "-objective(x), capacity_constraint(x), demand_constraint(x)"
      ],
      "metadata": {
        "colab": {
          "base_uri": "https://localhost:8080/"
        },
        "id": "EI3oqboC_A4X",
        "outputId": "1e4908ef-4ecc-48f9-fa13-37fb0c854047"
      },
      "execution_count": null,
      "outputs": [
        {
          "output_type": "execute_result",
          "data": {
            "text/plain": [
              "(160, -1, 0)"
            ]
          },
          "metadata": {},
          "execution_count": 13
        }
      ]
    },
    {
      "cell_type": "code",
      "source": [
        "x0 = [6, 3, 1]\n",
        "result = minimize(objective, x0, method='SLSQP', bounds=bounds, constraints=cons)\n",
        "\n",
        "# Print the results\n",
        "print('Optimal solution:', result.x)\n",
        "print('Optimal objective value:', result.fun)\n",
        "print(result.message, result.status, result.success, result.nfev, result.nit)\n",
        "x = result.x\n",
        "-objective(x), capacity_constraint(x), demand_constraint(x)"
      ],
      "metadata": {
        "colab": {
          "base_uri": "https://localhost:8080/"
        },
        "id": "qISzNQDR03F7",
        "outputId": "b0ce4761-3ba0-4f31-8760-86c5e7ec485e"
      },
      "execution_count": null,
      "outputs": [
        {
          "output_type": "stream",
          "name": "stdout",
          "text": [
            "Optimal solution: [6. 3. 1.]\n",
            "Optimal objective value: -150.0\n",
            "Optimization terminated successfully 0 True 4 1\n"
          ]
        },
        {
          "output_type": "execute_result",
          "data": {
            "text/plain": [
              "(150.0, 0.0, 0.0)"
            ]
          },
          "metadata": {},
          "execution_count": 14
        }
      ]
    },
    {
      "cell_type": "markdown",
      "source": [
        "Try converting the demand equality to an inequality, as the stock can be larger than the demand"
      ],
      "metadata": {
        "id": "4jaW3IpPAxBb"
      }
    },
    {
      "cell_type": "code",
      "source": [
        "x0 = [6, 3, 1]\n",
        "cons = ({'type': 'ineq', 'fun': capacity_constraint},\n",
        "        {'type': 'ineq', 'fun': demand_constraint})\n",
        "\n",
        "result = minimize(objective, x0, method='SLSQP', bounds=bounds, constraints=cons)\n",
        "\n",
        "# Print the results\n",
        "print('Optimal solution:', result.x)\n",
        "print('Optimal objective value:', result.fun)\n",
        "print(result.message, result.status, result.success, result.nfev, result.nit)\n",
        "\n",
        "x = result.x\n",
        "objective(x), capacity_constraint(x), demand_constraint(x)"
      ],
      "metadata": {
        "colab": {
          "base_uri": "https://localhost:8080/"
        },
        "id": "IERgfNpiAs7A",
        "outputId": "0ef96949-dd96-4359-d98b-bcabfea042fb"
      },
      "execution_count": null,
      "outputs": [
        {
          "output_type": "stream",
          "name": "stdout",
          "text": [
            "Optimal solution: [6. 3. 1.]\n",
            "Optimal objective value: -150.0\n",
            "Optimization terminated successfully 0 True 4 1\n"
          ]
        },
        {
          "output_type": "execute_result",
          "data": {
            "text/plain": [
              "(-150.0, 0.0, 0.0)"
            ]
          },
          "metadata": {},
          "execution_count": 15
        }
      ]
    },
    {
      "cell_type": "code",
      "source": [
        "x0 = [7, 1, 2]\n",
        "cons = ({'type': 'ineq', 'fun': capacity_constraint},\n",
        "        {'type': 'ineq', 'fun': demand_constraint})\n",
        "\n",
        "result = minimize(objective, x0, method='SLSQP', bounds=bounds, constraints=cons)\n",
        "\n",
        "# Print the results\n",
        "print('Optimal solution:', result.x)\n",
        "print('Optimal objective value:', result.fun)\n",
        "print(result.message, result.status, result.success, result.nfev, result.nit)\n",
        "\n",
        "x = result.x\n",
        "-objective(x), capacity_constraint(x), demand_constraint(x)"
      ],
      "metadata": {
        "colab": {
          "base_uri": "https://localhost:8080/"
        },
        "id": "-etqSd7hOsfV",
        "outputId": "a5ed5d6d-27d6-459f-c53f-9766496e901f"
      },
      "execution_count": null,
      "outputs": [
        {
          "output_type": "stream",
          "name": "stdout",
          "text": [
            "Optimal solution: [7. 1. 2.]\n",
            "Optimal objective value: -150.0\n",
            "Optimization terminated successfully 0 True 4 1\n"
          ]
        },
        {
          "output_type": "execute_result",
          "data": {
            "text/plain": [
              "(-150.0, 0.0, 0.0)"
            ]
          },
          "metadata": {},
          "execution_count": 16
        }
      ]
    },
    {
      "cell_type": "markdown",
      "source": [
        "# COBYLA (Constrained Optimization BY Linear Approximation )\n",
        "\n",
        "\n",
        "Note cobyla does not accept equality constraint, neither bounds. So we need to convert demand equality to an inequality, and rewrite bounds as contraints (x[0] > 0, for instance)"
      ],
      "metadata": {
        "id": "KW4c-6W4xM01"
      }
    },
    {
      "cell_type": "code",
      "source": [
        "x0 = [1, 1, 1]\n",
        "cobyla_cons = ({'type': 'ineq', 'fun': capacity_constraint},\n",
        "               {'type': 'ineq', 'fun': demand_constraint},\n",
        "               {'type': 'ineq', 'fun': lambda x: x[0]},\n",
        "               {'type': 'ineq', 'fun': lambda x: x[1]},\n",
        "               {'type': 'ineq', 'fun': lambda x: x[2]})\n",
        "\n",
        "result = minimize(objective, x0, method='cobyla', constraints=cobyla_cons)\n",
        "print('Optimal solution:', result.x)\n",
        "print('Optimal objective value:', result.fun)\n",
        "print(result.message, result.status, result.success, result.nfev)\n",
        "\n",
        "x = result.x\n",
        "-objective(x), capacity_constraint(x), demand_constraint(x)"
      ],
      "metadata": {
        "colab": {
          "base_uri": "https://localhost:8080/"
        },
        "id": "A81QNuV54nkX",
        "outputId": "3750dced-7ddc-462f-ab4f-06fe1575f938"
      },
      "execution_count": null,
      "outputs": [
        {
          "output_type": "stream",
          "name": "stdout",
          "text": [
            "Optimal solution: [5.61158858 3.77682283 0.61158858]\n",
            "Optimal objective value: -150.00000000000003\n",
            "Optimization terminated successfully. 1 True 42\n"
          ]
        },
        {
          "output_type": "execute_result",
          "data": {
            "text/plain": [
              "(-150.00000000000003, 8.881784197001252e-16, -3.552713678800501e-15)"
            ]
          },
          "metadata": {},
          "execution_count": 17
        }
      ]
    },
    {
      "cell_type": "code",
      "source": [
        "x0 = [6, 3, 1]\n",
        "\n",
        "result = minimize(objective, x0, method='cobyla', constraints=cobyla_cons)\n",
        "print('Optimal solution:', result.x)\n",
        "print('Optimal objective value:', result.fun)\n",
        "\n",
        "x = result.x\n",
        "objective(x), capacity_constraint(x), demand_constraint(x)"
      ],
      "metadata": {
        "colab": {
          "base_uri": "https://localhost:8080/"
        },
        "id": "4iyd560Y5q5Y",
        "outputId": "181d0d9c-043d-45c0-eed0-256f9501c030"
      },
      "execution_count": null,
      "outputs": [
        {
          "output_type": "stream",
          "name": "stdout",
          "text": [
            "Optimal solution: [6.00004082 2.99991835 1.00004082]\n",
            "Optimal objective value: -150.0\n"
          ]
        },
        {
          "output_type": "execute_result",
          "data": {
            "text/plain": [
              "(-150.0, 1.7763568394002505e-15, 0.0)"
            ]
          },
          "metadata": {},
          "execution_count": 18
        }
      ]
    },
    {
      "cell_type": "code",
      "source": [],
      "metadata": {
        "id": "dFBepUa31rw5"
      },
      "execution_count": null,
      "outputs": []
    }
  ]
}